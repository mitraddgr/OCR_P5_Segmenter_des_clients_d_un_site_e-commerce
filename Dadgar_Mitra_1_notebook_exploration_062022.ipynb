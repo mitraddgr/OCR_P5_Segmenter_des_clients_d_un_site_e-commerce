{
 "cells": [
  {
   "cell_type": "code",
   "execution_count": 2,
   "id": "28efa577",
   "metadata": {},
   "outputs": [],
   "source": [
    "import warnings\n",
    "warnings.filterwarnings(\"ignore\")\n",
    "\n",
    "import pandas as pd\n",
    "import numpy as np\n",
    "import matplotlib.pyplot as plt\n",
    "import matplotlib as mpl\n",
    "from matplotlib import cm\n",
    "import seaborn as sns\n",
    "import squarify\n",
    "from sklearn.cluster import KMeans\n",
    "from sklearn.preprocessing import StandardScaler\n",
    "from sklearn.decomposition import PCA\n",
    "from yellowbrick.cluster import KElbowVisualizer, SilhouetteVisualizer\n",
    "from sklearn.metrics import silhouette_score, davies_bouldin_score, adjusted_rand_score\n",
    "from kmodes.kprototypes import KPrototypes\n",
    "import gc\n",
    "from sklearn.cluster import DBSCAN\n",
    "from sklearn import metrics\n",
    "from sklearn.datasets import make_blobs\n",
    "\n",
    "sns.set_palette(\"deep\")\n"
   ]
  },
  {
   "cell_type": "markdown",
   "id": "bfe7c51c",
   "metadata": {},
   "source": [
    "# 1. Importation des données"
   ]
  },
  {
   "cell_type": "markdown",
   "id": "343ba6f7",
   "metadata": {},
   "source": [
    "On va commencer par extraire les informations clients pour pouvoir déterminer les premières variables de notre segmentation.\n",
    "\n"
   ]
  },
  {
   "cell_type": "code",
   "execution_count": 3,
   "id": "b86b94a6",
   "metadata": {
    "scrolled": false
   },
   "outputs": [
    {
     "name": "stdout",
     "output_type": "stream",
     "text": [
      "Taille de customers_df :  (99441, 5)\n",
      "Columns customers_df:  Index(['customer_id', 'customer_unique_id', 'customer_zip_code_prefix',\n",
      "       'customer_city', 'customer_state'],\n",
      "      dtype='object')\n",
      "Table customers_df :                          customer_id                customer_unique_id  \\\n",
      "0  06b8999e2fba1a1fbc88172c00ba8bc7  861eff4711a542e4b93843c6dd7febb0   \n",
      "1  18955e83d337fd6b2def6b18a428ac77  290c77bc529b7ac935b93aa66c333dc3   \n",
      "2  4e7b3e00288586ebd08712fdd0374a03  060e732b5b29e8181a18229c7b0b2b5e   \n",
      "\n",
      "   customer_zip_code_prefix          customer_city customer_state  \n",
      "0                     14409                 franca             SP  \n",
      "1                      9790  sao bernardo do campo             SP  \n",
      "2                      1151              sao paulo             SP  \n",
      "====================================================================================================\n",
      "Taille de geolocation_df :  (1000163, 5)\n",
      "Columns geolocation_df:  Index(['geolocation_zip_code_prefix', 'geolocation_lat', 'geolocation_lng',\n",
      "       'geolocation_city', 'geolocation_state'],\n",
      "      dtype='object')\n",
      "Table geolocation_df :     geolocation_zip_code_prefix  geolocation_lat  geolocation_lng  \\\n",
      "0                         1037       -23.545621       -46.639292   \n",
      "1                         1046       -23.546081       -46.644820   \n",
      "2                         1046       -23.546129       -46.642951   \n",
      "\n",
      "  geolocation_city geolocation_state  \n",
      "0        sao paulo                SP  \n",
      "1        sao paulo                SP  \n",
      "2        sao paulo                SP  \n",
      "====================================================================================================\n",
      "Taille de items_df :  (112650, 7)\n",
      "Columns df:  Index(['order_id', 'order_item_id', 'product_id', 'seller_id',\n",
      "       'shipping_limit_date', 'price', 'freight_value'],\n",
      "      dtype='object')\n",
      "Table items_df :                             order_id  order_item_id  \\\n",
      "0  00010242fe8c5a6d1ba2dd792cb16214              1   \n",
      "1  00018f77f2f0320c557190d7a144bdd3              1   \n",
      "2  000229ec398224ef6ca0657da4fc703e              1   \n",
      "\n",
      "                         product_id                         seller_id  \\\n",
      "0  4244733e06e7ecb4970a6e2683c13e61  48436dade18ac8b2bce089ec2a041202   \n",
      "1  e5f2d52b802189ee658865ca93d83a8f  dd7ddc04e1b6c2c614352b383efe2d36   \n",
      "2  c777355d18b72b67abbeef9df44fd0fd  5b51032eddd242adc84c38acab88f23d   \n",
      "\n",
      "   shipping_limit_date  price  freight_value  \n",
      "0  2017-09-19 09:45:35   58.9          13.29  \n",
      "1  2017-05-03 11:05:13  239.9          19.93  \n",
      "2  2018-01-18 14:48:30  199.0          17.87  \n",
      "====================================================================================================\n",
      "Taille de payments_df :  (103886, 5)\n",
      "Columns payments_df:  Index(['order_id', 'payment_sequential', 'payment_type',\n",
      "       'payment_installments', 'payment_value'],\n",
      "      dtype='object')\n",
      "Table payments_df :                             order_id  payment_sequential payment_type  \\\n",
      "0  b81ef226f3fe1789b1e8b2acac839d17                   1  credit_card   \n",
      "1  a9810da82917af2d9aefd1278f1dcfa0                   1  credit_card   \n",
      "2  25e8ea4e93396b6fa0d3dd708e76c1bd                   1  credit_card   \n",
      "\n",
      "   payment_installments  payment_value  \n",
      "0                     8          99.33  \n",
      "1                     1          24.39  \n",
      "2                     1          65.71  \n",
      "====================================================================================================\n",
      "Taille de order_reviews_df :  (99224, 7)\n",
      "Columns order_reviews_df:  Index(['review_id', 'order_id', 'review_score', 'review_comment_title',\n",
      "       'review_comment_message', 'review_creation_date',\n",
      "       'review_answer_timestamp'],\n",
      "      dtype='object')\n",
      "Table order_reviews_df:                            review_id                          order_id  \\\n",
      "0  7bc2406110b926393aa56f80a40eba40  73fc7af87114b39712e6da79b0a377eb   \n",
      "1  80e641a11e56f04c1ad469d5645fdfde  a548910a1c6147796b98fdf73dbeba33   \n",
      "2  228ce5500dc1d8e020d8d1322874b6f0  f9e4b658b201a9f2ecdecbb34bed034b   \n",
      "\n",
      "   review_score review_comment_title review_comment_message  \\\n",
      "0             4                  NaN                    NaN   \n",
      "1             5                  NaN                    NaN   \n",
      "2             5                  NaN                    NaN   \n",
      "\n",
      "  review_creation_date review_answer_timestamp  \n",
      "0  2018-01-18 00:00:00     2018-01-18 21:46:59  \n",
      "1  2018-03-10 00:00:00     2018-03-11 03:05:13  \n",
      "2  2018-02-17 00:00:00     2018-02-18 14:36:24  \n",
      "====================================================================================================\n",
      "Taille de order_df :  (99441, 8)\n",
      "Columns order_df:  Index(['order_id', 'customer_id', 'order_status', 'order_purchase_timestamp',\n",
      "       'order_approved_at', 'order_delivered_carrier_date',\n",
      "       'order_delivered_customer_date', 'order_estimated_delivery_date'],\n",
      "      dtype='object')\n",
      "Table order_df :                             order_id                       customer_id  \\\n",
      "0  e481f51cbdc54678b7cc49136f2d6af7  9ef432eb6251297304e76186b10a928d   \n",
      "1  53cdb2fc8bc7dce0b6741e2150273451  b0830fb4747a6c6d20dea0b8c802d7ef   \n",
      "2  47770eb9100c2d0c44946d9cf07ec65d  41ce2a54c0b03bf3443c3d931a367089   \n",
      "\n",
      "  order_status order_purchase_timestamp    order_approved_at  \\\n",
      "0    delivered      2017-10-02 10:56:33  2017-10-02 11:07:15   \n",
      "1    delivered      2018-07-24 20:41:37  2018-07-26 03:24:27   \n",
      "2    delivered      2018-08-08 08:38:49  2018-08-08 08:55:23   \n",
      "\n",
      "  order_delivered_carrier_date order_delivered_customer_date  \\\n",
      "0          2017-10-04 19:55:00           2017-10-10 21:25:13   \n",
      "1          2018-07-26 14:31:00           2018-08-07 15:27:45   \n",
      "2          2018-08-08 13:50:00           2018-08-17 18:06:29   \n",
      "\n",
      "  order_estimated_delivery_date  \n",
      "0           2017-10-18 00:00:00  \n",
      "1           2018-08-13 00:00:00  \n",
      "2           2018-09-04 00:00:00  \n",
      "====================================================================================================\n",
      "Taille de products_df :  (32951, 9)\n",
      "Columns products_df:  Index(['product_id', 'product_category_name', 'product_name_lenght',\n",
      "       'product_description_lenght', 'product_photos_qty', 'product_weight_g',\n",
      "       'product_length_cm', 'product_height_cm', 'product_width_cm'],\n",
      "      dtype='object')\n",
      "Table products_df :                           product_id product_category_name  \\\n",
      "0  1e9e8ef04dbcff4541ed26657ea517e5            perfumaria   \n",
      "1  3aa071139cb16b67ca9e5dea641aaa2f                 artes   \n",
      "2  96bd76ec8810374ed1b65e291975717f         esporte_lazer   \n",
      "\n",
      "   product_name_lenght  product_description_lenght  product_photos_qty  \\\n",
      "0                 40.0                       287.0                 1.0   \n",
      "1                 44.0                       276.0                 1.0   \n",
      "2                 46.0                       250.0                 1.0   \n",
      "\n",
      "   product_weight_g  product_length_cm  product_height_cm  product_width_cm  \n",
      "0             225.0               16.0               10.0              14.0  \n",
      "1            1000.0               30.0               18.0              20.0  \n",
      "2             154.0               18.0                9.0              15.0  \n",
      "====================================================================================================\n",
      "Taille de categories_df :  (71, 2)\n",
      "Columns categories_df:  Index(['product_category_name', 'product_category_name_english'], dtype='object')\n",
      "Table categories_df :      product_category_name product_category_name_english\n",
      "0            beleza_saude                 health_beauty\n",
      "1  informatica_acessorios         computers_accessories\n",
      "2              automotivo                          auto\n"
     ]
    }
   ],
   "source": [
    "\n",
    "customers_df = pd.read_csv('olist_customers_dataset.csv')\n",
    "print('Taille de customers_df : ', customers_df.shape)\n",
    "print('Columns customers_df: ', customers_df.columns)\n",
    "print('Table customers_df : ', customers_df.head(3))\n",
    "print('='*100)\n",
    "\n",
    "geolocation_df = pd.read_csv('olist_geolocation_dataset.csv')\n",
    "print('Taille de geolocation_df : ', geolocation_df.shape)\n",
    "print('Columns geolocation_df: ', geolocation_df.columns)\n",
    "print('Table geolocation_df : ', geolocation_df.head(3))\n",
    "print('='*100)\n",
    "\n",
    "items_df = pd.read_csv('olist_order_items_dataset.csv')\n",
    "print('Taille de items_df : ', items_df.shape)\n",
    "print('Columns df: ', items_df.columns)\n",
    "print('Table items_df : ', items_df.head(3))\n",
    "print('='*100)\n",
    "\n",
    "payments_df = pd.read_csv('olist_order_payments_dataset.csv')\n",
    "print('Taille de payments_df : ', payments_df.shape)\n",
    "print('Columns payments_df: ', payments_df.columns)\n",
    "print('Table payments_df : ', payments_df.head(3))\n",
    "print('='*100)\n",
    "\n",
    "order_reviews_df = pd.read_csv('olist_order_reviews_dataset.csv')\n",
    "print('Taille de order_reviews_df : ', order_reviews_df.shape)\n",
    "print('Columns order_reviews_df: ', order_reviews_df.columns)\n",
    "print('Table order_reviews_df: ', order_reviews_df.head(3))\n",
    "print('='*100)\n",
    "\n",
    "order_df = pd.read_csv('olist_orders_dataset.csv')\n",
    "print('Taille de order_df : ', order_df.shape)\n",
    "print('Columns order_df: ', order_df.columns)\n",
    "print('Table order_df : ', order_df.head(3))\n",
    "print('='*100)\n",
    "\n",
    "products_df = pd.read_csv('olist_products_dataset.csv')\n",
    "print('Taille de products_df : ', products_df.shape)\n",
    "print('Columns products_df: ', products_df.columns)\n",
    "print('Table products_df : ', products_df.head(3))\n",
    "print('='*100)\n",
    "\n",
    "categories_df = pd.read_csv('product_category_name_translation.csv')\n",
    "print('Taille de categories_df : ', categories_df.shape)\n",
    "print('Columns categories_df: ', categories_df.columns)\n",
    "print('Table categories_df : ', categories_df.head(3))\n",
    "\n"
   ]
  },
  {
   "cell_type": "markdown",
   "id": "84317f83",
   "metadata": {},
   "source": [
    "On fusione deux tableaux avec des informations clients"
   ]
  },
  {
   "cell_type": "code",
   "execution_count": 4,
   "id": "ed43a02b",
   "metadata": {},
   "outputs": [
    {
     "data": {
      "text/plain": [
       "Index(['geolocation_zip_code_prefix', 'geolocation_lat', 'geolocation_lng',\n",
       "       'geolocation_city', 'geolocation_state', 'customer_id',\n",
       "       'customer_unique_id', 'customer_zip_code_prefix', 'customer_city',\n",
       "       'customer_state'],\n",
       "      dtype='object')"
      ]
     },
     "execution_count": 4,
     "metadata": {},
     "output_type": "execute_result"
    }
   ],
   "source": [
    "df1 = pd.merge(geolocation_df, customers_df,\n",
    "                        right_on=[\"customer_zip_code_prefix\",\n",
    "                                  \"customer_city\", \"customer_state\"],\n",
    "                        left_on=[\"geolocation_zip_code_prefix\",\n",
    "                                 \"geolocation_city\", \"geolocation_state\"],\n",
    "                        how=\"right\")\n",
    "df1.columns"
   ]
  },
  {
   "cell_type": "markdown",
   "id": "71101127",
   "metadata": {},
   "source": [
    "On ajoute des informations des commandes"
   ]
  },
  {
   "cell_type": "code",
   "execution_count": 5,
   "id": "65bd7770",
   "metadata": {},
   "outputs": [
    {
     "data": {
      "text/plain": [
       "Index(['geolocation_zip_code_prefix', 'geolocation_lat', 'geolocation_lng',\n",
       "       'geolocation_city', 'geolocation_state', 'customer_id',\n",
       "       'customer_unique_id', 'customer_zip_code_prefix', 'customer_city',\n",
       "       'customer_state', 'order_id', 'order_status',\n",
       "       'order_purchase_timestamp', 'order_approved_at',\n",
       "       'order_delivered_carrier_date', 'order_delivered_customer_date',\n",
       "       'order_estimated_delivery_date'],\n",
       "      dtype='object')"
      ]
     },
     "execution_count": 5,
     "metadata": {},
     "output_type": "execute_result"
    }
   ],
   "source": [
    "df2 = pd.merge(df1, order_df,\n",
    "              left_on=\"customer_id\",\n",
    "              right_on=\"customer_id\",\n",
    "              how=\"right\")\n",
    "df2.columns"
   ]
  },
  {
   "cell_type": "code",
   "execution_count": 6,
   "id": "6cb8e353",
   "metadata": {},
   "outputs": [
    {
     "data": {
      "text/plain": [
       "Index(['geolocation_zip_code_prefix', 'geolocation_lat', 'geolocation_lng',\n",
       "       'geolocation_city', 'geolocation_state', 'customer_id',\n",
       "       'customer_unique_id', 'customer_zip_code_prefix', 'customer_city',\n",
       "       'customer_state', 'order_id', 'order_status',\n",
       "       'order_purchase_timestamp', 'order_approved_at',\n",
       "       'order_delivered_carrier_date', 'order_delivered_customer_date',\n",
       "       'order_estimated_delivery_date', 'review_id', 'review_score',\n",
       "       'review_comment_title', 'review_comment_message',\n",
       "       'review_creation_date', 'review_answer_timestamp'],\n",
       "      dtype='object')"
      ]
     },
     "execution_count": 6,
     "metadata": {},
     "output_type": "execute_result"
    }
   ],
   "source": [
    "df3 = pd.merge(df2, order_reviews_df,\n",
    "              left_on=\"order_id\",\n",
    "              right_on=\"order_id\",\n",
    "              how=\"right\")\n",
    "df3.columns"
   ]
  },
  {
   "cell_type": "markdown",
   "id": "5eff0404",
   "metadata": {},
   "source": [
    "On ajoute des informations paiments des commandes"
   ]
  },
  {
   "cell_type": "code",
   "execution_count": 7,
   "id": "969c99a1",
   "metadata": {},
   "outputs": [
    {
     "data": {
      "text/plain": [
       "Index(['geolocation_zip_code_prefix', 'geolocation_lat', 'geolocation_lng',\n",
       "       'geolocation_city', 'geolocation_state', 'customer_id',\n",
       "       'customer_unique_id', 'customer_zip_code_prefix', 'customer_city',\n",
       "       'customer_state', 'order_id', 'order_status',\n",
       "       'order_purchase_timestamp', 'order_approved_at',\n",
       "       'order_delivered_carrier_date', 'order_delivered_customer_date',\n",
       "       'order_estimated_delivery_date', 'review_id', 'review_score',\n",
       "       'review_comment_title', 'review_comment_message',\n",
       "       'review_creation_date', 'review_answer_timestamp', 'payment_sequential',\n",
       "       'payment_type', 'payment_installments', 'payment_value'],\n",
       "      dtype='object')"
      ]
     },
     "execution_count": 7,
     "metadata": {},
     "output_type": "execute_result"
    }
   ],
   "source": [
    "df4 = pd.merge(df3, payments_df, left_on=\"order_id\",\n",
    "              right_on=\"order_id\", how=\"right\")\n",
    "df4.columns"
   ]
  },
  {
   "cell_type": "markdown",
   "id": "5cb90a9e",
   "metadata": {},
   "source": [
    "On ajoute des informations produits commandé"
   ]
  },
  {
   "cell_type": "code",
   "execution_count": 8,
   "id": "4f066a53",
   "metadata": {
    "scrolled": true
   },
   "outputs": [
    {
     "data": {
      "text/plain": [
       "Index(['geolocation_zip_code_prefix', 'geolocation_lat', 'geolocation_lng',\n",
       "       'geolocation_city', 'geolocation_state', 'customer_id',\n",
       "       'customer_unique_id', 'customer_zip_code_prefix', 'customer_city',\n",
       "       'customer_state', 'order_id', 'order_status',\n",
       "       'order_purchase_timestamp', 'order_approved_at',\n",
       "       'order_delivered_carrier_date', 'order_delivered_customer_date',\n",
       "       'order_estimated_delivery_date', 'review_id', 'review_score',\n",
       "       'review_comment_title', 'review_comment_message',\n",
       "       'review_creation_date', 'review_answer_timestamp', 'payment_sequential',\n",
       "       'payment_type', 'payment_installments', 'payment_value',\n",
       "       'order_item_id', 'product_id', 'seller_id', 'shipping_limit_date',\n",
       "       'price', 'freight_value', 'product_category_name',\n",
       "       'product_name_lenght', 'product_description_lenght',\n",
       "       'product_photos_qty', 'product_weight_g', 'product_length_cm',\n",
       "       'product_height_cm', 'product_width_cm',\n",
       "       'product_category_name_english'],\n",
       "      dtype='object')"
      ]
     },
     "execution_count": 8,
     "metadata": {},
     "output_type": "execute_result"
    }
   ],
   "source": [
    "df5 = pd.merge(items_df, products_df, left_on=\"product_id\",\n",
    "              right_on=\"product_id\", how=\"right\")\n",
    "\n",
    "\n",
    "df6 = pd.merge(df4, df5, left_on=\"order_id\",\n",
    "              right_on=\"order_id\", how=\"right\")\n",
    "\n",
    "df = pd.merge(df6, categories_df , left_on='product_category_name', right_on=\"product_category_name\", how=\"right\")\n",
    "df.columns"
   ]
  },
  {
   "cell_type": "markdown",
   "id": "a4ee359c",
   "metadata": {},
   "source": [
    "# 2. Exploration et nettoyage des données\n"
   ]
  },
  {
   "cell_type": "markdown",
   "id": "591b453b",
   "metadata": {},
   "source": [
    "### 2.1. Suppression des colomns non-utilisées et renommer certaines colonnes "
   ]
  },
  {
   "cell_type": "code",
   "execution_count": 9,
   "id": "8599aed7",
   "metadata": {},
   "outputs": [
    {
     "data": {
      "text/plain": [
       "Index(['geolocation_lat', 'geolocation_lng', 'customer_id',\n",
       "       'customer_unique_id', 'customer_zip_code_prefix', 'customer_city',\n",
       "       'customer_state', 'order_id', 'order_status',\n",
       "       'order_purchase_timestamp', 'order_approved_at',\n",
       "       'order_delivered_carrier_date', 'order_delivered_customer_date',\n",
       "       'order_estimated_delivery_date', 'review_id', 'review_score',\n",
       "       'review_creation_date', 'review_answer_timestamp', 'payment_sequential',\n",
       "       'payment_type', 'payment_installments', 'payment_value',\n",
       "       'order_item_id', 'product_id', 'seller_id', 'shipping_limit_date',\n",
       "       'price', 'freight_value', 'product_category_name',\n",
       "       'product_name_lenght', 'product_description_lenght',\n",
       "       'product_photos_qty', 'product_weight_g', 'product_length_cm',\n",
       "       'product_height_cm', 'product_width_cm',\n",
       "       'product_category_name_english'],\n",
       "      dtype='object')"
      ]
     },
     "execution_count": 9,
     "metadata": {},
     "output_type": "execute_result"
    }
   ],
   "source": [
    "# On supprimes geolocation zip, city, state parce qu'on a des cusomer zip et city et state\n",
    "df.drop([\"geolocation_zip_code_prefix\", \"geolocation_city\",\"geolocation_state\", \"review_comment_message\", 'review_comment_title',], axis=1, inplace=True)\n",
    "df.columns"
   ]
  },
  {
   "cell_type": "code",
   "execution_count": 10,
   "id": "1f958701",
   "metadata": {},
   "outputs": [
    {
     "data": {
      "text/html": [
       "<div>\n",
       "<style scoped>\n",
       "    .dataframe tbody tr th:only-of-type {\n",
       "        vertical-align: middle;\n",
       "    }\n",
       "\n",
       "    .dataframe tbody tr th {\n",
       "        vertical-align: top;\n",
       "    }\n",
       "\n",
       "    .dataframe thead th {\n",
       "        text-align: right;\n",
       "    }\n",
       "</style>\n",
       "<table border=\"1\" class=\"dataframe\">\n",
       "  <thead>\n",
       "    <tr style=\"text-align: right;\">\n",
       "      <th></th>\n",
       "      <th>customer_id</th>\n",
       "      <th>customer_unique_id</th>\n",
       "      <th>customer_zip_code_prefix</th>\n",
       "      <th>customer_city</th>\n",
       "      <th>customer_state</th>\n",
       "      <th>geolocation_lat</th>\n",
       "      <th>geolocation_lng</th>\n",
       "      <th>order_id</th>\n",
       "      <th>order_status</th>\n",
       "      <th>order_purchase_timestamp</th>\n",
       "      <th>...</th>\n",
       "      <th>price</th>\n",
       "      <th>freight_value</th>\n",
       "      <th>product_category_name_english</th>\n",
       "      <th>product_name_lenght</th>\n",
       "      <th>product_description_lenght</th>\n",
       "      <th>product_photos_qty</th>\n",
       "      <th>product_weight_g</th>\n",
       "      <th>product_length_cm</th>\n",
       "      <th>product_height_cm</th>\n",
       "      <th>product_width_cm</th>\n",
       "    </tr>\n",
       "  </thead>\n",
       "  <tbody>\n",
       "    <tr>\n",
       "      <th>0</th>\n",
       "      <td>9c2f403519bcb363683a7179f0f94bd4</td>\n",
       "      <td>dc83fe8f72fb4388f079a2f9b586240c</td>\n",
       "      <td>8599.0</td>\n",
       "      <td>itaquaquecetuba</td>\n",
       "      <td>SP</td>\n",
       "      <td>-23.462597</td>\n",
       "      <td>-46.335317</td>\n",
       "      <td>a41753c6a1d8accb89732e36243432d7</td>\n",
       "      <td>delivered</td>\n",
       "      <td>2017-05-12 10:51:43</td>\n",
       "      <td>...</td>\n",
       "      <td>29.90</td>\n",
       "      <td>15.79</td>\n",
       "      <td>health_beauty</td>\n",
       "      <td>58.0</td>\n",
       "      <td>1987.0</td>\n",
       "      <td>3.0</td>\n",
       "      <td>75.0</td>\n",
       "      <td>21.0</td>\n",
       "      <td>7.0</td>\n",
       "      <td>13.0</td>\n",
       "    </tr>\n",
       "    <tr>\n",
       "      <th>1</th>\n",
       "      <td>9c2f403519bcb363683a7179f0f94bd4</td>\n",
       "      <td>dc83fe8f72fb4388f079a2f9b586240c</td>\n",
       "      <td>8599.0</td>\n",
       "      <td>itaquaquecetuba</td>\n",
       "      <td>SP</td>\n",
       "      <td>-23.464099</td>\n",
       "      <td>-46.346142</td>\n",
       "      <td>a41753c6a1d8accb89732e36243432d7</td>\n",
       "      <td>delivered</td>\n",
       "      <td>2017-05-12 10:51:43</td>\n",
       "      <td>...</td>\n",
       "      <td>29.90</td>\n",
       "      <td>15.79</td>\n",
       "      <td>health_beauty</td>\n",
       "      <td>58.0</td>\n",
       "      <td>1987.0</td>\n",
       "      <td>3.0</td>\n",
       "      <td>75.0</td>\n",
       "      <td>21.0</td>\n",
       "      <td>7.0</td>\n",
       "      <td>13.0</td>\n",
       "    </tr>\n",
       "    <tr>\n",
       "      <th>2</th>\n",
       "      <td>9c2f403519bcb363683a7179f0f94bd4</td>\n",
       "      <td>dc83fe8f72fb4388f079a2f9b586240c</td>\n",
       "      <td>8599.0</td>\n",
       "      <td>itaquaquecetuba</td>\n",
       "      <td>SP</td>\n",
       "      <td>-23.471430</td>\n",
       "      <td>-46.343578</td>\n",
       "      <td>a41753c6a1d8accb89732e36243432d7</td>\n",
       "      <td>delivered</td>\n",
       "      <td>2017-05-12 10:51:43</td>\n",
       "      <td>...</td>\n",
       "      <td>29.90</td>\n",
       "      <td>15.79</td>\n",
       "      <td>health_beauty</td>\n",
       "      <td>58.0</td>\n",
       "      <td>1987.0</td>\n",
       "      <td>3.0</td>\n",
       "      <td>75.0</td>\n",
       "      <td>21.0</td>\n",
       "      <td>7.0</td>\n",
       "      <td>13.0</td>\n",
       "    </tr>\n",
       "    <tr>\n",
       "      <th>3</th>\n",
       "      <td>9c2f403519bcb363683a7179f0f94bd4</td>\n",
       "      <td>dc83fe8f72fb4388f079a2f9b586240c</td>\n",
       "      <td>8599.0</td>\n",
       "      <td>itaquaquecetuba</td>\n",
       "      <td>SP</td>\n",
       "      <td>-23.471261</td>\n",
       "      <td>-46.344856</td>\n",
       "      <td>a41753c6a1d8accb89732e36243432d7</td>\n",
       "      <td>delivered</td>\n",
       "      <td>2017-05-12 10:51:43</td>\n",
       "      <td>...</td>\n",
       "      <td>29.90</td>\n",
       "      <td>15.79</td>\n",
       "      <td>health_beauty</td>\n",
       "      <td>58.0</td>\n",
       "      <td>1987.0</td>\n",
       "      <td>3.0</td>\n",
       "      <td>75.0</td>\n",
       "      <td>21.0</td>\n",
       "      <td>7.0</td>\n",
       "      <td>13.0</td>\n",
       "    </tr>\n",
       "    <tr>\n",
       "      <th>4</th>\n",
       "      <td>9c2f403519bcb363683a7179f0f94bd4</td>\n",
       "      <td>dc83fe8f72fb4388f079a2f9b586240c</td>\n",
       "      <td>8599.0</td>\n",
       "      <td>itaquaquecetuba</td>\n",
       "      <td>SP</td>\n",
       "      <td>-23.464940</td>\n",
       "      <td>-46.346835</td>\n",
       "      <td>a41753c6a1d8accb89732e36243432d7</td>\n",
       "      <td>delivered</td>\n",
       "      <td>2017-05-12 10:51:43</td>\n",
       "      <td>...</td>\n",
       "      <td>29.90</td>\n",
       "      <td>15.79</td>\n",
       "      <td>health_beauty</td>\n",
       "      <td>58.0</td>\n",
       "      <td>1987.0</td>\n",
       "      <td>3.0</td>\n",
       "      <td>75.0</td>\n",
       "      <td>21.0</td>\n",
       "      <td>7.0</td>\n",
       "      <td>13.0</td>\n",
       "    </tr>\n",
       "    <tr>\n",
       "      <th>...</th>\n",
       "      <td>...</td>\n",
       "      <td>...</td>\n",
       "      <td>...</td>\n",
       "      <td>...</td>\n",
       "      <td>...</td>\n",
       "      <td>...</td>\n",
       "      <td>...</td>\n",
       "      <td>...</td>\n",
       "      <td>...</td>\n",
       "      <td>...</td>\n",
       "      <td>...</td>\n",
       "      <td>...</td>\n",
       "      <td>...</td>\n",
       "      <td>...</td>\n",
       "      <td>...</td>\n",
       "      <td>...</td>\n",
       "      <td>...</td>\n",
       "      <td>...</td>\n",
       "      <td>...</td>\n",
       "      <td>...</td>\n",
       "      <td>...</td>\n",
       "    </tr>\n",
       "    <tr>\n",
       "      <th>16536211</th>\n",
       "      <td>363d3a9b2ec5c5426608688ca033292d</td>\n",
       "      <td>d8bee9ec375c3a0f9ef8ed7456a51dcd</td>\n",
       "      <td>76940.0</td>\n",
       "      <td>rolim de moura</td>\n",
       "      <td>RO</td>\n",
       "      <td>-11.723870</td>\n",
       "      <td>-61.805101</td>\n",
       "      <td>2c4ada2e75c2ad41dd93cebb5df5f023</td>\n",
       "      <td>delivered</td>\n",
       "      <td>2017-01-26 11:09:00</td>\n",
       "      <td>...</td>\n",
       "      <td>183.29</td>\n",
       "      <td>25.77</td>\n",
       "      <td>security_and_services</td>\n",
       "      <td>55.0</td>\n",
       "      <td>506.0</td>\n",
       "      <td>1.0</td>\n",
       "      <td>1225.0</td>\n",
       "      <td>27.0</td>\n",
       "      <td>35.0</td>\n",
       "      <td>15.0</td>\n",
       "    </tr>\n",
       "    <tr>\n",
       "      <th>16536212</th>\n",
       "      <td>363d3a9b2ec5c5426608688ca033292d</td>\n",
       "      <td>d8bee9ec375c3a0f9ef8ed7456a51dcd</td>\n",
       "      <td>76940.0</td>\n",
       "      <td>rolim de moura</td>\n",
       "      <td>RO</td>\n",
       "      <td>-11.707826</td>\n",
       "      <td>-61.777864</td>\n",
       "      <td>2c4ada2e75c2ad41dd93cebb5df5f023</td>\n",
       "      <td>delivered</td>\n",
       "      <td>2017-01-26 11:09:00</td>\n",
       "      <td>...</td>\n",
       "      <td>183.29</td>\n",
       "      <td>25.77</td>\n",
       "      <td>security_and_services</td>\n",
       "      <td>55.0</td>\n",
       "      <td>506.0</td>\n",
       "      <td>1.0</td>\n",
       "      <td>1225.0</td>\n",
       "      <td>27.0</td>\n",
       "      <td>35.0</td>\n",
       "      <td>15.0</td>\n",
       "    </tr>\n",
       "    <tr>\n",
       "      <th>16536213</th>\n",
       "      <td>363d3a9b2ec5c5426608688ca033292d</td>\n",
       "      <td>d8bee9ec375c3a0f9ef8ed7456a51dcd</td>\n",
       "      <td>76940.0</td>\n",
       "      <td>rolim de moura</td>\n",
       "      <td>RO</td>\n",
       "      <td>-11.720286</td>\n",
       "      <td>-61.773397</td>\n",
       "      <td>2c4ada2e75c2ad41dd93cebb5df5f023</td>\n",
       "      <td>delivered</td>\n",
       "      <td>2017-01-26 11:09:00</td>\n",
       "      <td>...</td>\n",
       "      <td>183.29</td>\n",
       "      <td>25.77</td>\n",
       "      <td>security_and_services</td>\n",
       "      <td>55.0</td>\n",
       "      <td>506.0</td>\n",
       "      <td>1.0</td>\n",
       "      <td>1225.0</td>\n",
       "      <td>27.0</td>\n",
       "      <td>35.0</td>\n",
       "      <td>15.0</td>\n",
       "    </tr>\n",
       "    <tr>\n",
       "      <th>16536214</th>\n",
       "      <td>363d3a9b2ec5c5426608688ca033292d</td>\n",
       "      <td>d8bee9ec375c3a0f9ef8ed7456a51dcd</td>\n",
       "      <td>76940.0</td>\n",
       "      <td>rolim de moura</td>\n",
       "      <td>RO</td>\n",
       "      <td>-11.723617</td>\n",
       "      <td>-61.761166</td>\n",
       "      <td>2c4ada2e75c2ad41dd93cebb5df5f023</td>\n",
       "      <td>delivered</td>\n",
       "      <td>2017-01-26 11:09:00</td>\n",
       "      <td>...</td>\n",
       "      <td>183.29</td>\n",
       "      <td>25.77</td>\n",
       "      <td>security_and_services</td>\n",
       "      <td>55.0</td>\n",
       "      <td>506.0</td>\n",
       "      <td>1.0</td>\n",
       "      <td>1225.0</td>\n",
       "      <td>27.0</td>\n",
       "      <td>35.0</td>\n",
       "      <td>15.0</td>\n",
       "    </tr>\n",
       "    <tr>\n",
       "      <th>16536215</th>\n",
       "      <td>363d3a9b2ec5c5426608688ca033292d</td>\n",
       "      <td>d8bee9ec375c3a0f9ef8ed7456a51dcd</td>\n",
       "      <td>76940.0</td>\n",
       "      <td>rolim de moura</td>\n",
       "      <td>RO</td>\n",
       "      <td>-11.725296</td>\n",
       "      <td>-61.771534</td>\n",
       "      <td>2c4ada2e75c2ad41dd93cebb5df5f023</td>\n",
       "      <td>delivered</td>\n",
       "      <td>2017-01-26 11:09:00</td>\n",
       "      <td>...</td>\n",
       "      <td>183.29</td>\n",
       "      <td>25.77</td>\n",
       "      <td>security_and_services</td>\n",
       "      <td>55.0</td>\n",
       "      <td>506.0</td>\n",
       "      <td>1.0</td>\n",
       "      <td>1225.0</td>\n",
       "      <td>27.0</td>\n",
       "      <td>35.0</td>\n",
       "      <td>15.0</td>\n",
       "    </tr>\n",
       "  </tbody>\n",
       "</table>\n",
       "<p>16536216 rows × 36 columns</p>\n",
       "</div>"
      ],
      "text/plain": [
       "                               customer_id                customer_unique_id  \\\n",
       "0         9c2f403519bcb363683a7179f0f94bd4  dc83fe8f72fb4388f079a2f9b586240c   \n",
       "1         9c2f403519bcb363683a7179f0f94bd4  dc83fe8f72fb4388f079a2f9b586240c   \n",
       "2         9c2f403519bcb363683a7179f0f94bd4  dc83fe8f72fb4388f079a2f9b586240c   \n",
       "3         9c2f403519bcb363683a7179f0f94bd4  dc83fe8f72fb4388f079a2f9b586240c   \n",
       "4         9c2f403519bcb363683a7179f0f94bd4  dc83fe8f72fb4388f079a2f9b586240c   \n",
       "...                                    ...                               ...   \n",
       "16536211  363d3a9b2ec5c5426608688ca033292d  d8bee9ec375c3a0f9ef8ed7456a51dcd   \n",
       "16536212  363d3a9b2ec5c5426608688ca033292d  d8bee9ec375c3a0f9ef8ed7456a51dcd   \n",
       "16536213  363d3a9b2ec5c5426608688ca033292d  d8bee9ec375c3a0f9ef8ed7456a51dcd   \n",
       "16536214  363d3a9b2ec5c5426608688ca033292d  d8bee9ec375c3a0f9ef8ed7456a51dcd   \n",
       "16536215  363d3a9b2ec5c5426608688ca033292d  d8bee9ec375c3a0f9ef8ed7456a51dcd   \n",
       "\n",
       "          customer_zip_code_prefix    customer_city customer_state  \\\n",
       "0                           8599.0  itaquaquecetuba             SP   \n",
       "1                           8599.0  itaquaquecetuba             SP   \n",
       "2                           8599.0  itaquaquecetuba             SP   \n",
       "3                           8599.0  itaquaquecetuba             SP   \n",
       "4                           8599.0  itaquaquecetuba             SP   \n",
       "...                            ...              ...            ...   \n",
       "16536211                   76940.0   rolim de moura             RO   \n",
       "16536212                   76940.0   rolim de moura             RO   \n",
       "16536213                   76940.0   rolim de moura             RO   \n",
       "16536214                   76940.0   rolim de moura             RO   \n",
       "16536215                   76940.0   rolim de moura             RO   \n",
       "\n",
       "          geolocation_lat  geolocation_lng                          order_id  \\\n",
       "0              -23.462597       -46.335317  a41753c6a1d8accb89732e36243432d7   \n",
       "1              -23.464099       -46.346142  a41753c6a1d8accb89732e36243432d7   \n",
       "2              -23.471430       -46.343578  a41753c6a1d8accb89732e36243432d7   \n",
       "3              -23.471261       -46.344856  a41753c6a1d8accb89732e36243432d7   \n",
       "4              -23.464940       -46.346835  a41753c6a1d8accb89732e36243432d7   \n",
       "...                   ...              ...                               ...   \n",
       "16536211       -11.723870       -61.805101  2c4ada2e75c2ad41dd93cebb5df5f023   \n",
       "16536212       -11.707826       -61.777864  2c4ada2e75c2ad41dd93cebb5df5f023   \n",
       "16536213       -11.720286       -61.773397  2c4ada2e75c2ad41dd93cebb5df5f023   \n",
       "16536214       -11.723617       -61.761166  2c4ada2e75c2ad41dd93cebb5df5f023   \n",
       "16536215       -11.725296       -61.771534  2c4ada2e75c2ad41dd93cebb5df5f023   \n",
       "\n",
       "         order_status order_purchase_timestamp  ...   price freight_value  \\\n",
       "0           delivered      2017-05-12 10:51:43  ...   29.90         15.79   \n",
       "1           delivered      2017-05-12 10:51:43  ...   29.90         15.79   \n",
       "2           delivered      2017-05-12 10:51:43  ...   29.90         15.79   \n",
       "3           delivered      2017-05-12 10:51:43  ...   29.90         15.79   \n",
       "4           delivered      2017-05-12 10:51:43  ...   29.90         15.79   \n",
       "...               ...                      ...  ...     ...           ...   \n",
       "16536211    delivered      2017-01-26 11:09:00  ...  183.29         25.77   \n",
       "16536212    delivered      2017-01-26 11:09:00  ...  183.29         25.77   \n",
       "16536213    delivered      2017-01-26 11:09:00  ...  183.29         25.77   \n",
       "16536214    delivered      2017-01-26 11:09:00  ...  183.29         25.77   \n",
       "16536215    delivered      2017-01-26 11:09:00  ...  183.29         25.77   \n",
       "\n",
       "         product_category_name_english product_name_lenght  \\\n",
       "0                        health_beauty                58.0   \n",
       "1                        health_beauty                58.0   \n",
       "2                        health_beauty                58.0   \n",
       "3                        health_beauty                58.0   \n",
       "4                        health_beauty                58.0   \n",
       "...                                ...                 ...   \n",
       "16536211         security_and_services                55.0   \n",
       "16536212         security_and_services                55.0   \n",
       "16536213         security_and_services                55.0   \n",
       "16536214         security_and_services                55.0   \n",
       "16536215         security_and_services                55.0   \n",
       "\n",
       "         product_description_lenght  product_photos_qty product_weight_g  \\\n",
       "0                            1987.0                 3.0             75.0   \n",
       "1                            1987.0                 3.0             75.0   \n",
       "2                            1987.0                 3.0             75.0   \n",
       "3                            1987.0                 3.0             75.0   \n",
       "4                            1987.0                 3.0             75.0   \n",
       "...                             ...                 ...              ...   \n",
       "16536211                      506.0                 1.0           1225.0   \n",
       "16536212                      506.0                 1.0           1225.0   \n",
       "16536213                      506.0                 1.0           1225.0   \n",
       "16536214                      506.0                 1.0           1225.0   \n",
       "16536215                      506.0                 1.0           1225.0   \n",
       "\n",
       "         product_length_cm  product_height_cm product_width_cm  \n",
       "0                     21.0                7.0             13.0  \n",
       "1                     21.0                7.0             13.0  \n",
       "2                     21.0                7.0             13.0  \n",
       "3                     21.0                7.0             13.0  \n",
       "4                     21.0                7.0             13.0  \n",
       "...                    ...                ...              ...  \n",
       "16536211              27.0               35.0             15.0  \n",
       "16536212              27.0               35.0             15.0  \n",
       "16536213              27.0               35.0             15.0  \n",
       "16536214              27.0               35.0             15.0  \n",
       "16536215              27.0               35.0             15.0  \n",
       "\n",
       "[16536216 rows x 36 columns]"
      ]
     },
     "execution_count": 10,
     "metadata": {},
     "output_type": "execute_result"
    }
   ],
   "source": [
    "# Trier les colonnes\n",
    "df = df[['customer_id','customer_unique_id', 'customer_zip_code_prefix', 'customer_city', 'customer_state',\n",
    "         'geolocation_lat', 'geolocation_lng', \n",
    "         'order_id', 'order_status','order_purchase_timestamp', 'order_approved_at',\n",
    "         'order_delivered_carrier_date', 'order_delivered_customer_date','order_estimated_delivery_date',\n",
    "         'review_id', 'review_score','review_creation_date', 'review_answer_timestamp',\n",
    "         'payment_sequential', 'payment_type','payment_installments', 'payment_value',\n",
    "         'order_item_id', 'product_id', 'seller_id', 'shipping_limit_date',\n",
    "         'price', 'freight_value', 'product_category_name_english',\n",
    "         'product_name_lenght', 'product_description_lenght',\n",
    "         'product_photos_qty', 'product_weight_g', 'product_length_cm',\n",
    "         'product_height_cm', 'product_width_cm'\n",
    "        ]]\n",
    "df"
   ]
  },
  {
   "cell_type": "markdown",
   "id": "4794190a",
   "metadata": {},
   "source": [
    "### 2.2. Suppression des données doublons"
   ]
  },
  {
   "cell_type": "code",
   "execution_count": 11,
   "id": "72347aab",
   "metadata": {},
   "outputs": [
    {
     "name": "stdout",
     "output_type": "stream",
     "text": [
      "Nombre d'id clients: 96516\n",
      "Nombre d'id unique: 93396\n"
     ]
    }
   ],
   "source": [
    "print(\"Nombre d'id clients:\", df[\"customer_id\"].nunique())\n",
    "print(\"Nombre d'id unique:\", df[\"customer_unique_id\"].nunique())"
   ]
  },
  {
   "cell_type": "code",
   "execution_count": 12,
   "id": "2ddf7468",
   "metadata": {},
   "outputs": [
    {
     "data": {
      "text/plain": [
       "16442819"
      ]
     },
     "execution_count": 12,
     "metadata": {},
     "output_type": "execute_result"
    }
   ],
   "source": [
    "df.duplicated('customer_unique_id').sum()"
   ]
  },
  {
   "cell_type": "code",
   "execution_count": 13,
   "id": "35e3e0de",
   "metadata": {},
   "outputs": [
    {
     "data": {
      "text/plain": [
       "16439699"
      ]
     },
     "execution_count": 13,
     "metadata": {},
     "output_type": "execute_result"
    }
   ],
   "source": [
    "df.duplicated('customer_id').sum()"
   ]
  },
  {
   "cell_type": "code",
   "execution_count": 14,
   "id": "c1aaec2c",
   "metadata": {
    "scrolled": true
   },
   "outputs": [
    {
     "data": {
      "text/plain": [
       "16438960"
      ]
     },
     "execution_count": 14,
     "metadata": {},
     "output_type": "execute_result"
    }
   ],
   "source": [
    "df.duplicated('order_id').sum()"
   ]
  },
  {
   "cell_type": "markdown",
   "id": "6f2ea487",
   "metadata": {},
   "source": [
    "On supprime Pes des duplicates customer id"
   ]
  },
  {
   "cell_type": "code",
   "execution_count": 15,
   "id": "0d9712d3",
   "metadata": {},
   "outputs": [],
   "source": [
    "#df.drop_duplicates(subset=\"customer_unique_id\", inplace=True)"
   ]
  },
  {
   "cell_type": "markdown",
   "id": "756b2521",
   "metadata": {},
   "source": [
    "### 2.3. Supprimer les commandes pas livrées\n"
   ]
  },
  {
   "cell_type": "code",
   "execution_count": 16,
   "id": "0de0c585",
   "metadata": {},
   "outputs": [
    {
     "data": {
      "text/plain": [
       "array(['delivered', 'shipped', 'invoiced', nan, 'canceled', 'processing',\n",
       "       'approved', 'unavailable'], dtype=object)"
      ]
     },
     "execution_count": 16,
     "metadata": {},
     "output_type": "execute_result"
    }
   ],
   "source": [
    "df['order_status'].unique()"
   ]
  },
  {
   "cell_type": "code",
   "execution_count": 17,
   "id": "2de1d4f7",
   "metadata": {},
   "outputs": [
    {
     "data": {
      "text/plain": [
       "array(['delivered', 'shipped', 'invoiced', 'processing', 'approved'],\n",
       "      dtype=object)"
      ]
     },
     "execution_count": 17,
     "metadata": {},
     "output_type": "execute_result"
    }
   ],
   "source": [
    "# On supprime des commandes pas livrées( canceled et invoiced)\n",
    "valid_order = ['delivered','approved','shipped', 'invoiced', 'processing']\n",
    "mask = df['order_status'].isin(valid_order)\n",
    "df = df[mask]\n",
    "df['order_status'].unique()"
   ]
  },
  {
   "cell_type": "code",
   "execution_count": 18,
   "id": "e008fe61",
   "metadata": {},
   "outputs": [
    {
     "data": {
      "text/plain": [
       "delivered     16212701\n",
       "shipped         142144\n",
       "invoiced         56198\n",
       "processing       52665\n",
       "approved           638\n",
       "Name: order_status, dtype: int64"
      ]
     },
     "execution_count": 18,
     "metadata": {},
     "output_type": "execute_result"
    }
   ],
   "source": [
    "df['order_status'].value_counts()"
   ]
  },
  {
   "cell_type": "markdown",
   "id": "47918660",
   "metadata": {},
   "source": [
    "On vérifie les percentage des valeurs manquants"
   ]
  },
  {
   "cell_type": "code",
   "execution_count": 19,
   "id": "a43367d8",
   "metadata": {},
   "outputs": [
    {
     "data": {
      "text/plain": [
       "customer_id                      0.000000\n",
       "customer_unique_id               0.000000\n",
       "customer_zip_code_prefix         0.000000\n",
       "customer_city                    0.000000\n",
       "customer_state                   0.000000\n",
       "geolocation_lat                  0.002144\n",
       "geolocation_lng                  0.002144\n",
       "order_id                         0.000000\n",
       "order_status                     0.000000\n",
       "order_purchase_timestamp         0.000000\n",
       "order_approved_at                0.016527\n",
       "order_delivered_carrier_date     0.666975\n",
       "order_delivered_customer_date    1.535548\n",
       "order_estimated_delivery_date    0.000000\n",
       "review_id                        0.000000\n",
       "review_score                     0.000000\n",
       "review_creation_date             0.000000\n",
       "review_answer_timestamp          0.000000\n",
       "payment_sequential               0.000000\n",
       "payment_type                     0.000000\n",
       "payment_installments             0.000000\n",
       "payment_value                    0.000000\n",
       "order_item_id                    0.000000\n",
       "product_id                       0.000000\n",
       "seller_id                        0.000000\n",
       "shipping_limit_date              0.000000\n",
       "price                            0.000000\n",
       "freight_value                    0.000000\n",
       "product_category_name_english    0.000000\n",
       "product_name_lenght              0.000000\n",
       "product_description_lenght       0.000000\n",
       "product_photos_qty               0.000000\n",
       "product_weight_g                 0.000656\n",
       "product_length_cm                0.000656\n",
       "product_height_cm                0.000656\n",
       "product_width_cm                 0.000656\n",
       "dtype: float64"
      ]
     },
     "execution_count": 19,
     "metadata": {},
     "output_type": "execute_result"
    }
   ],
   "source": [
    "percent_missing = df.isnull().sum() * 100 / len(df)\n",
    "percent_missing"
   ]
  },
  {
   "cell_type": "code",
   "execution_count": 20,
   "id": "79c5ef65",
   "metadata": {},
   "outputs": [
    {
     "name": "stdout",
     "output_type": "stream",
     "text": [
      "<class 'pandas.core.frame.DataFrame'>\n",
      "Int64Index: 16464346 entries, 0 to 16536215\n",
      "Data columns (total 36 columns):\n",
      " #   Column                         Dtype  \n",
      "---  ------                         -----  \n",
      " 0   customer_id                    object \n",
      " 1   customer_unique_id             object \n",
      " 2   customer_zip_code_prefix       float64\n",
      " 3   customer_city                  object \n",
      " 4   customer_state                 object \n",
      " 5   geolocation_lat                float64\n",
      " 6   geolocation_lng                float64\n",
      " 7   order_id                       object \n",
      " 8   order_status                   object \n",
      " 9   order_purchase_timestamp       object \n",
      " 10  order_approved_at              object \n",
      " 11  order_delivered_carrier_date   object \n",
      " 12  order_delivered_customer_date  object \n",
      " 13  order_estimated_delivery_date  object \n",
      " 14  review_id                      object \n",
      " 15  review_score                   float64\n",
      " 16  review_creation_date           object \n",
      " 17  review_answer_timestamp        object \n",
      " 18  payment_sequential             float64\n",
      " 19  payment_type                   object \n",
      " 20  payment_installments           float64\n",
      " 21  payment_value                  float64\n",
      " 22  order_item_id                  int64  \n",
      " 23  product_id                     object \n",
      " 24  seller_id                      object \n",
      " 25  shipping_limit_date            object \n",
      " 26  price                          float64\n",
      " 27  freight_value                  float64\n",
      " 28  product_category_name_english  object \n",
      " 29  product_name_lenght            float64\n",
      " 30  product_description_lenght     float64\n",
      " 31  product_photos_qty             float64\n",
      " 32  product_weight_g               float64\n",
      " 33  product_length_cm              float64\n",
      " 34  product_height_cm              float64\n",
      " 35  product_width_cm               float64\n",
      "dtypes: float64(16), int64(1), object(19)\n",
      "memory usage: 4.5+ GB\n"
     ]
    }
   ],
   "source": [
    "df.info()"
   ]
  },
  {
   "cell_type": "markdown",
   "id": "ca99954a",
   "metadata": {},
   "source": [
    "### 2.4. Barplot répartition de commandes en fonction des mois\n"
   ]
  },
  {
   "cell_type": "markdown",
   "id": "891dc68a",
   "metadata": {},
   "source": [
    "J'afficherai le nombre de commandes en fonction du temps. Pour cela, on va extraire la semaine ,le mois et l'année pour chaque ligne et les rassembler dans une autre base de données"
   ]
  },
  {
   "cell_type": "code",
   "execution_count": 19,
   "id": "cdce5857",
   "metadata": {},
   "outputs": [
    {
     "data": {
      "text/html": [
       "<div>\n",
       "<style scoped>\n",
       "    .dataframe tbody tr th:only-of-type {\n",
       "        vertical-align: middle;\n",
       "    }\n",
       "\n",
       "    .dataframe tbody tr th {\n",
       "        vertical-align: top;\n",
       "    }\n",
       "\n",
       "    .dataframe thead th {\n",
       "        text-align: right;\n",
       "    }\n",
       "</style>\n",
       "<table border=\"1\" class=\"dataframe\">\n",
       "  <thead>\n",
       "    <tr style=\"text-align: right;\">\n",
       "      <th></th>\n",
       "      <th>customer_id</th>\n",
       "      <th>customer_unique_id</th>\n",
       "      <th>customer_zip_code_prefix</th>\n",
       "      <th>customer_city</th>\n",
       "      <th>customer_state</th>\n",
       "      <th>geolocation_lat</th>\n",
       "      <th>geolocation_lng</th>\n",
       "      <th>order_id</th>\n",
       "      <th>order_status</th>\n",
       "      <th>order_purchase_timestamp</th>\n",
       "      <th>...</th>\n",
       "      <th>price</th>\n",
       "      <th>freight_value</th>\n",
       "      <th>product_category_name_english</th>\n",
       "      <th>product_name_lenght</th>\n",
       "      <th>product_description_lenght</th>\n",
       "      <th>product_photos_qty</th>\n",
       "      <th>product_weight_g</th>\n",
       "      <th>product_length_cm</th>\n",
       "      <th>product_height_cm</th>\n",
       "      <th>product_width_cm</th>\n",
       "    </tr>\n",
       "  </thead>\n",
       "  <tbody>\n",
       "    <tr>\n",
       "      <th>0</th>\n",
       "      <td>9c2f403519bcb363683a7179f0f94bd4</td>\n",
       "      <td>dc83fe8f72fb4388f079a2f9b586240c</td>\n",
       "      <td>8599.0</td>\n",
       "      <td>itaquaquecetuba</td>\n",
       "      <td>SP</td>\n",
       "      <td>-23.462597</td>\n",
       "      <td>-46.335317</td>\n",
       "      <td>a41753c6a1d8accb89732e36243432d7</td>\n",
       "      <td>delivered</td>\n",
       "      <td>2017-05-12 10:51:43</td>\n",
       "      <td>...</td>\n",
       "      <td>29.9</td>\n",
       "      <td>15.79</td>\n",
       "      <td>health_beauty</td>\n",
       "      <td>58.0</td>\n",
       "      <td>1987.0</td>\n",
       "      <td>3.0</td>\n",
       "      <td>75.0</td>\n",
       "      <td>21.0</td>\n",
       "      <td>7.0</td>\n",
       "      <td>13.0</td>\n",
       "    </tr>\n",
       "    <tr>\n",
       "      <th>1</th>\n",
       "      <td>9c2f403519bcb363683a7179f0f94bd4</td>\n",
       "      <td>dc83fe8f72fb4388f079a2f9b586240c</td>\n",
       "      <td>8599.0</td>\n",
       "      <td>itaquaquecetuba</td>\n",
       "      <td>SP</td>\n",
       "      <td>-23.464099</td>\n",
       "      <td>-46.346142</td>\n",
       "      <td>a41753c6a1d8accb89732e36243432d7</td>\n",
       "      <td>delivered</td>\n",
       "      <td>2017-05-12 10:51:43</td>\n",
       "      <td>...</td>\n",
       "      <td>29.9</td>\n",
       "      <td>15.79</td>\n",
       "      <td>health_beauty</td>\n",
       "      <td>58.0</td>\n",
       "      <td>1987.0</td>\n",
       "      <td>3.0</td>\n",
       "      <td>75.0</td>\n",
       "      <td>21.0</td>\n",
       "      <td>7.0</td>\n",
       "      <td>13.0</td>\n",
       "    </tr>\n",
       "  </tbody>\n",
       "</table>\n",
       "<p>2 rows × 36 columns</p>\n",
       "</div>"
      ],
      "text/plain": [
       "                        customer_id                customer_unique_id  \\\n",
       "0  9c2f403519bcb363683a7179f0f94bd4  dc83fe8f72fb4388f079a2f9b586240c   \n",
       "1  9c2f403519bcb363683a7179f0f94bd4  dc83fe8f72fb4388f079a2f9b586240c   \n",
       "\n",
       "   customer_zip_code_prefix    customer_city customer_state  geolocation_lat  \\\n",
       "0                    8599.0  itaquaquecetuba             SP       -23.462597   \n",
       "1                    8599.0  itaquaquecetuba             SP       -23.464099   \n",
       "\n",
       "   geolocation_lng                          order_id order_status  \\\n",
       "0       -46.335317  a41753c6a1d8accb89732e36243432d7    delivered   \n",
       "1       -46.346142  a41753c6a1d8accb89732e36243432d7    delivered   \n",
       "\n",
       "  order_purchase_timestamp  ... price freight_value  \\\n",
       "0      2017-05-12 10:51:43  ...  29.9         15.79   \n",
       "1      2017-05-12 10:51:43  ...  29.9         15.79   \n",
       "\n",
       "  product_category_name_english product_name_lenght  \\\n",
       "0                 health_beauty                58.0   \n",
       "1                 health_beauty                58.0   \n",
       "\n",
       "  product_description_lenght  product_photos_qty product_weight_g  \\\n",
       "0                     1987.0                 3.0             75.0   \n",
       "1                     1987.0                 3.0             75.0   \n",
       "\n",
       "  product_length_cm  product_height_cm product_width_cm  \n",
       "0              21.0                7.0             13.0  \n",
       "1              21.0                7.0             13.0  \n",
       "\n",
       "[2 rows x 36 columns]"
      ]
     },
     "execution_count": 19,
     "metadata": {},
     "output_type": "execute_result"
    }
   ],
   "source": [
    "df['order_purchase_timestamp'] = pd.to_datetime(df['order_purchase_timestamp'],  errors='coerce')\n",
    "\n",
    "df.head(2)"
   ]
  },
  {
   "cell_type": "code",
   "execution_count": 16,
   "id": "0ee4cacf",
   "metadata": {},
   "outputs": [
    {
     "name": "stdout",
     "output_type": "stream",
     "text": [
      "les commandes sont entre   2016-09-04 21:15:19  et  2018-09-03 09:06:57\n"
     ]
    }
   ],
   "source": [
    "print(\"les commandes sont entre  \",min(df['order_purchase_timestamp']),\" et \",max(df['order_purchase_timestamp']))\n"
   ]
  },
  {
   "cell_type": "code",
   "execution_count": 20,
   "id": "776a21aa",
   "metadata": {},
   "outputs": [],
   "source": [
    "time = df.loc[:,['order_id']]\n",
    "time['order_purchase_year'] = pd.to_datetime(df['order_purchase_timestamp'],  errors='coerce').dt.year\n",
    "time['order_purchase_month'] = pd.to_datetime(df['order_purchase_timestamp'], errors='coerce').dt.month\n",
    "#time['order_purchase_week'] = pd.to_datetime(df['order_purchase_timestamp'], errors='coerce').dt.week\n"
   ]
  },
  {
   "cell_type": "code",
   "execution_count": 21,
   "id": "36e44a09",
   "metadata": {},
   "outputs": [],
   "source": [
    "time = time.groupby(['order_purchase_month', 'order_purchase_year']).count().reset_index()"
   ]
  },
  {
   "cell_type": "code",
   "execution_count": 22,
   "id": "d61756d6",
   "metadata": {},
   "outputs": [
    {
     "data": {
      "text/html": [
       "<div>\n",
       "<style scoped>\n",
       "    .dataframe tbody tr th:only-of-type {\n",
       "        vertical-align: middle;\n",
       "    }\n",
       "\n",
       "    .dataframe tbody tr th {\n",
       "        vertical-align: top;\n",
       "    }\n",
       "\n",
       "    .dataframe thead th {\n",
       "        text-align: right;\n",
       "    }\n",
       "</style>\n",
       "<table border=\"1\" class=\"dataframe\">\n",
       "  <thead>\n",
       "    <tr style=\"text-align: right;\">\n",
       "      <th></th>\n",
       "      <th>order_purchase_month</th>\n",
       "      <th>order_purchase_year</th>\n",
       "      <th>Number of order</th>\n",
       "      <th>period</th>\n",
       "    </tr>\n",
       "  </thead>\n",
       "  <tbody>\n",
       "    <tr>\n",
       "      <th>16</th>\n",
       "      <td>9</td>\n",
       "      <td>2016</td>\n",
       "      <td>130</td>\n",
       "      <td>2016/9</td>\n",
       "    </tr>\n",
       "    <tr>\n",
       "      <th>19</th>\n",
       "      <td>10</td>\n",
       "      <td>2016</td>\n",
       "      <td>55275</td>\n",
       "      <td>2016/10</td>\n",
       "    </tr>\n",
       "    <tr>\n",
       "      <th>22</th>\n",
       "      <td>12</td>\n",
       "      <td>2016</td>\n",
       "      <td>304</td>\n",
       "      <td>2016/12</td>\n",
       "    </tr>\n",
       "    <tr>\n",
       "      <th>0</th>\n",
       "      <td>1</td>\n",
       "      <td>2017</td>\n",
       "      <td>141589</td>\n",
       "      <td>2017/1</td>\n",
       "    </tr>\n",
       "    <tr>\n",
       "      <th>2</th>\n",
       "      <td>2</td>\n",
       "      <td>2017</td>\n",
       "      <td>282946</td>\n",
       "      <td>2017/2</td>\n",
       "    </tr>\n",
       "    <tr>\n",
       "      <th>4</th>\n",
       "      <td>3</td>\n",
       "      <td>2017</td>\n",
       "      <td>446937</td>\n",
       "      <td>2017/3</td>\n",
       "    </tr>\n",
       "    <tr>\n",
       "      <th>6</th>\n",
       "      <td>4</td>\n",
       "      <td>2017</td>\n",
       "      <td>382657</td>\n",
       "      <td>2017/4</td>\n",
       "    </tr>\n",
       "    <tr>\n",
       "      <th>8</th>\n",
       "      <td>5</td>\n",
       "      <td>2017</td>\n",
       "      <td>612152</td>\n",
       "      <td>2017/5</td>\n",
       "    </tr>\n",
       "    <tr>\n",
       "      <th>10</th>\n",
       "      <td>6</td>\n",
       "      <td>2017</td>\n",
       "      <td>525929</td>\n",
       "      <td>2017/6</td>\n",
       "    </tr>\n",
       "    <tr>\n",
       "      <th>12</th>\n",
       "      <td>7</td>\n",
       "      <td>2017</td>\n",
       "      <td>687602</td>\n",
       "      <td>2017/7</td>\n",
       "    </tr>\n",
       "  </tbody>\n",
       "</table>\n",
       "</div>"
      ],
      "text/plain": [
       "    order_purchase_month  order_purchase_year  Number of order   period\n",
       "16                     9                 2016              130   2016/9\n",
       "19                    10                 2016            55275  2016/10\n",
       "22                    12                 2016              304  2016/12\n",
       "0                      1                 2017           141589   2017/1\n",
       "2                      2                 2017           282946   2017/2\n",
       "4                      3                 2017           446937   2017/3\n",
       "6                      4                 2017           382657   2017/4\n",
       "8                      5                 2017           612152   2017/5\n",
       "10                     6                 2017           525929   2017/6\n",
       "12                     7                 2017           687602   2017/7"
      ]
     },
     "execution_count": 22,
     "metadata": {},
     "output_type": "execute_result"
    }
   ],
   "source": [
    "time[\"period\"] =  time[\"order_purchase_year\"].astype(str)  + \"/\" +time[\"order_purchase_month\"].astype(str) \n",
    "time.columns=[\"order_purchase_month\",\"order_purchase_year\",\"Number of order\",\"period\"]\n",
    "time=time.sort_values(by=['order_purchase_year', 'order_purchase_month'])\n",
    "time.head(10)"
   ]
  },
  {
   "cell_type": "code",
   "execution_count": 26,
   "id": "6f75d604",
   "metadata": {},
   "outputs": [
    {
     "data": {
      "image/png": "[encoded data removed]",
      "text/plain": [
       "<Figure size 936x504 with 1 Axes>"
      ]
     },
     "metadata": {},
     "output_type": "display_data"
    }
   ],
   "source": [
    "(fig, ax) = plt.subplots(figsize=(13, 7))\n",
    "plt.title(\"Nombre de commandes en fonction du temps\")\n",
    "ax = plt.bar(range(0,time[\"period\"].nunique()), time[\"Number of order\"].values, color=\"#99419a\")\n",
    "plt.xticks(range(0,time[\"period\"].nunique()),time[\"period\"].unique(),rotation=90)\n",
    "plt.xlabel(\"Période\")\n",
    "plt.ylabel(\"Numéro de commande\")\n",
    "plt.grid()"
   ]
  },
  {
   "cell_type": "markdown",
   "id": "407f4515",
   "metadata": {},
   "source": [
    "### 2.5. Barplot répartition de commandes en fonction des jours"
   ]
  },
  {
   "cell_type": "code",
   "execution_count": 23,
   "id": "4c6b6a52",
   "metadata": {},
   "outputs": [],
   "source": [
    "time = [\"order_approved_at\", \"order_delivered_carrier_date\", \"order_delivered_customer_date\"]\n",
    "\n",
    "for cols in time:\n",
    "    df[cols] = pd.to_datetime(df[cols], format=\"%Y-%m-%d\", errors=\"ignore\")"
   ]
  },
  {
   "cell_type": "code",
   "execution_count": 24,
   "id": "74394eae",
   "metadata": {},
   "outputs": [],
   "source": [
    "order_daily = df[['order_approved_at']].groupby(df['order_approved_at'].dt.dayofweek.sort_index()).count()\n",
    "\n",
    "daily_trend_index = order_daily.rename(columns = {'order_approved_at': 'num_of_orders'})\n",
    "daily_trend = daily_trend_index.reset_index()\n"
   ]
  },
  {
   "cell_type": "code",
   "execution_count": 22,
   "id": "20def9f1",
   "metadata": {},
   "outputs": [
    {
     "data": {
      "text/html": [
       "<div>\n",
       "<style scoped>\n",
       "    .dataframe tbody tr th:only-of-type {\n",
       "        vertical-align: middle;\n",
       "    }\n",
       "\n",
       "    .dataframe tbody tr th {\n",
       "        vertical-align: top;\n",
       "    }\n",
       "\n",
       "    .dataframe thead th {\n",
       "        text-align: right;\n",
       "    }\n",
       "</style>\n",
       "<table border=\"1\" class=\"dataframe\">\n",
       "  <thead>\n",
       "    <tr style=\"text-align: right;\">\n",
       "      <th></th>\n",
       "      <th>order_approved_at</th>\n",
       "      <th>num_of_orders</th>\n",
       "    </tr>\n",
       "  </thead>\n",
       "  <tbody>\n",
       "    <tr>\n",
       "      <th>0</th>\n",
       "      <td>Monday</td>\n",
       "      <td>2182121</td>\n",
       "    </tr>\n",
       "    <tr>\n",
       "      <th>1</th>\n",
       "      <td>Tuesday</td>\n",
       "      <td>3140201</td>\n",
       "    </tr>\n",
       "    <tr>\n",
       "      <th>2</th>\n",
       "      <td>Wednesday</td>\n",
       "      <td>2562563</td>\n",
       "    </tr>\n",
       "    <tr>\n",
       "      <th>3</th>\n",
       "      <td>Thursday</td>\n",
       "      <td>2553165</td>\n",
       "    </tr>\n",
       "    <tr>\n",
       "      <th>4</th>\n",
       "      <td>Friday</td>\n",
       "      <td>2489404</td>\n",
       "    </tr>\n",
       "    <tr>\n",
       "      <th>5</th>\n",
       "      <td>Saturday</td>\n",
       "      <td>2019184</td>\n",
       "    </tr>\n",
       "    <tr>\n",
       "      <th>6</th>\n",
       "      <td>Sunday</td>\n",
       "      <td>1514987</td>\n",
       "    </tr>\n",
       "  </tbody>\n",
       "</table>\n",
       "</div>"
      ],
      "text/plain": [
       "  order_approved_at  num_of_orders\n",
       "0            Monday        2182121\n",
       "1           Tuesday        3140201\n",
       "2         Wednesday        2562563\n",
       "3          Thursday        2553165\n",
       "4            Friday        2489404\n",
       "5          Saturday        2019184\n",
       "6            Sunday        1514987"
      ]
     },
     "execution_count": 22,
     "metadata": {},
     "output_type": "execute_result"
    }
   ],
   "source": [
    "days = ['Monday','Tuesday','Wednesday','Thursday','Friday','Saturday','Sunday']\n",
    "for i in range(7):\n",
    "    daily_trend['order_approved_at'] = daily_trend['order_approved_at'].replace(i,days[i])\n",
    "daily_trend"
   ]
  },
  {
   "cell_type": "code",
   "execution_count": 31,
   "id": "a6b0d7a5",
   "metadata": {},
   "outputs": [
    {
     "data": {
      "image/png": "[encoded data removed]",
      "text/plain": [
       "<Figure size 576x576 with 1 Axes>"
      ]
     },
     "metadata": {},
     "output_type": "display_data"
    }
   ],
   "source": [
    "fig = plt.figure(figsize=(8,8))\n",
    "sns.barplot(x='order_approved_at', y='num_of_orders', data=daily_trend, color = 'green')\n",
    "plt.xlabel('Nombre de commandes')\n",
    "plt.ylabel('Jours')\n",
    "plt.title('Nombre de commandes pour chaque jour')\n",
    "plt.show()"
   ]
  },
  {
   "cell_type": "markdown",
   "id": "3b9c8aea",
   "metadata": {},
   "source": [
    "### 2.6. Barplot répartition des moyens de paiements\n"
   ]
  },
  {
   "cell_type": "code",
   "execution_count": 32,
   "id": "29209cef",
   "metadata": {},
   "outputs": [
    {
     "data": {
      "text/plain": [
       "Text(0, 0.5, 'Nombre de paiement')"
      ]
     },
     "execution_count": 32,
     "metadata": {},
     "output_type": "execute_result"
    },
    {
     "data": {
      "image/png": "[encoded data removed]",
      "text/plain": [
       "<Figure size 576x576 with 1 Axes>"
      ]
     },
     "metadata": {},
     "output_type": "display_data"
    }
   ],
   "source": [
    "fig = plt.figure(figsize=(8,8))\n",
    "nombre_paiment = df['payment_type'].value_counts()\n",
    "top_paiement = nombre_paiment.sort_values(ascending=False)\n",
    "sns.barplot(x=top_paiement.index, y=nombre_paiment, palette=\"rocket\")\n",
    "plt.title('La répartition des moyens de paiements')\n",
    "plt.xlabel('moyens de paiement')\n",
    "plt.ylabel('Nombre de paiement')"
   ]
  },
  {
   "cell_type": "markdown",
   "id": "851fbbee",
   "metadata": {},
   "source": [
    "### 2.7. Barplot répartition des status de commande\n"
   ]
  },
  {
   "cell_type": "code",
   "execution_count": 33,
   "id": "3841e91f",
   "metadata": {},
   "outputs": [
    {
     "data": {
      "text/plain": [
       "Text(0, 0.5, 'Nombre des status de commande')"
      ]
     },
     "execution_count": 33,
     "metadata": {},
     "output_type": "execute_result"
    },
    {
     "data": {
      "image/png": "[encoded data removed]",
      "text/plain": [
       "<Figure size 576x576 with 1 Axes>"
      ]
     },
     "metadata": {},
     "output_type": "display_data"
    }
   ],
   "source": [
    "fig = plt.figure(figsize=(8,8))\n",
    "nombre_status = df['order_status'].value_counts()\n",
    "top_status = nombre_status.sort_values(ascending=False)\n",
    "sns.barplot(x=top_status.index, y=nombre_status)\n",
    "plt.title('La répartition des status de commande')\n",
    "plt.xlabel('Status de commande')\n",
    "plt.ylabel('Nombre des status de commande')"
   ]
  },
  {
   "cell_type": "markdown",
   "id": "4df3310a",
   "metadata": {},
   "source": [
    "### 2.8. Histogramme nombre de paiements"
   ]
  },
  {
   "cell_type": "code",
   "execution_count": 34,
   "id": "5661eddb",
   "metadata": {},
   "outputs": [
    {
     "data": {
      "text/plain": [
       "array([ 1.,  2.,  3.,  4.,  5.,  7.,  6.,  9., 11., 10.,  8., 12., 17.,\n",
       "       13., 16., 19., 21., 18., 15., 20., 14., 26., 25., 24., 22., 23.,\n",
       "       27., 29., 28.])"
      ]
     },
     "execution_count": 34,
     "metadata": {},
     "output_type": "execute_result"
    }
   ],
   "source": [
    "df['payment_sequential'].unique()"
   ]
  },
  {
   "cell_type": "code",
   "execution_count": 35,
   "id": "79217562",
   "metadata": {},
   "outputs": [
    {
     "data": {
      "text/plain": [
       "<AxesSubplot:xlabel='payment_sequential', ylabel='Density'>"
      ]
     },
     "execution_count": 35,
     "metadata": {},
     "output_type": "execute_result"
    },
    {
     "data": {
      "image/png": "[encoded data removed]",
      "text/plain": [
       "<Figure size 576x576 with 1 Axes>"
      ]
     },
     "metadata": {},
     "output_type": "display_data"
    }
   ],
   "source": [
    "fig = plt.figure(figsize=(8,8))\n",
    "sns.distplot(df[\"payment_sequential\"], kde=True, kde_kws={\"color\": \"green\", \"alpha\": 1, \"linewidth\": 1})\n"
   ]
  },
  {
   "cell_type": "markdown",
   "id": "f6b10661",
   "metadata": {},
   "source": [
    "\n",
    "### 2.9. Histogramme montant des commandes"
   ]
  },
  {
   "cell_type": "code",
   "execution_count": 36,
   "id": "ba8b42ee",
   "metadata": {},
   "outputs": [
    {
     "data": {
      "text/plain": [
       "<AxesSubplot:xlabel='payment_value', ylabel='Density'>"
      ]
     },
     "execution_count": 36,
     "metadata": {},
     "output_type": "execute_result"
    },
    {
     "data": {
      "image/png": "[encoded data removed]",
      "text/plain": [
       "<Figure size 576x576 with 1 Axes>"
      ]
     },
     "metadata": {},
     "output_type": "display_data"
    }
   ],
   "source": [
    "sns.set(style=\"darkgrid\")\n",
    "fig = plt.figure(figsize=(8,8))\n",
    "sns.distplot(df[\"payment_value\"],kde=True, kde_kws={\"color\": \"red\"})"
   ]
  },
  {
   "cell_type": "markdown",
   "id": "f89678e2",
   "metadata": {},
   "source": [
    "## Conclusion de partie exploration"
   ]
  },
  {
   "cell_type": "markdown",
   "id": "c40e3490",
   "metadata": {},
   "source": [
    "- Le nombre de ventes a considérablement augmenté en 2017\n",
    "- En novembre 2017 les ventes ont augmenté mais en décembre 2017 et juin 2018, les ventes ont chuté\n",
    "- Les clients passent le plus de commandes le mardi, tandis que le dimanche est le moins préféré\n",
    "- La carte de crédit est le type de paiement le plus préférable, tandis que l'utilisation de la carte de débit est la plus faible (seulement 1 % sur plus de 100 000 commandes)\n",
    "- La plupart des commandes est livré\n",
    "- Les clients ont payé dans un coup et le nombre de paiment est plus 1 fois\n",
    "- Les commandes commendé coutent moins 2000"
   ]
  },
  {
   "cell_type": "markdown",
   "id": "ec2717ae",
   "metadata": {},
   "source": [
    "## 3. Création d'une segmentation RFM(Recency, Frequency, MonetaryValue)\n",
    "La segmentation RFM se base sur des habitudes de consommations comme la date du dernier achat (Recency), la fréquence d'achat (Frequency) et la valeur moyenne/la somme moyenne dépensée lors d'une commande (MonetaryValue)."
   ]
  },
  {
   "cell_type": "markdown",
   "id": "5db84857",
   "metadata": {},
   "source": [
    "### 3.1.Création des variables RFM"
   ]
  },
  {
   "cell_type": "code",
   "execution_count": 25,
   "id": "64acf6be",
   "metadata": {},
   "outputs": [],
   "source": [
    "# Transformation timestamps into datetime\n",
    "import datetime\n",
    "\n",
    "time = [\"order_purchase_timestamp\", \"order_approved_at\",\n",
    "        \"order_delivered_carrier_date\", \"order_delivered_customer_date\",\n",
    "        \"order_estimated_delivery_date\"]\n",
    "\n",
    "for cols in time:\n",
    "    df[cols] = pd.to_datetime(df[cols], format=\"%Y-%m-%d\", errors=\"ignore\")"
   ]
  },
  {
   "cell_type": "code",
   "execution_count": 26,
   "id": "f1a09a62",
   "metadata": {},
   "outputs": [],
   "source": [
    "snapshot_date = max(df.order_purchase_timestamp) + datetime.timedelta(days=1)"
   ]
  },
  {
   "cell_type": "code",
   "execution_count": 27,
   "id": "57799663",
   "metadata": {},
   "outputs": [],
   "source": [
    "# Creation of RFM segmentation\n",
    "rfm_custom = df.groupby(\"customer_unique_id\").agg({\n",
    "    \"order_purchase_timestamp\" : lambda x: (snapshot_date - x.max()).days,\n",
    "    \"order_id\" : 'count',\n",
    "    \"payment_value\" : \"mean\"\n",
    "})\n",
    "rfm_custom.columns = [\"Recency\", \"Frequency\", \"MonetaryValue\"]\n",
    "data_rfm = rfm_custom.copy().reset_index()"
   ]
  },
  {
   "cell_type": "markdown",
   "id": "e5270e89",
   "metadata": {},
   "source": [
    "### 3.2.Scoring des trois variables"
   ]
  },
  {
   "cell_type": "code",
   "execution_count": 28,
   "id": "0687be7f",
   "metadata": {},
   "outputs": [],
   "source": [
    "# Calculation of scores with the help of quartiles\n",
    "data_rfm['r_quartile'] = pd.qcut(data_rfm['Recency'], 4, ['1', '2', '3', '4'])\n",
    "data_rfm['f_bins'] = pd.cut(data_rfm['Frequency'], 2, labels=['2', '1'])\n",
    "data_rfm['m_quartile'] = pd.qcut(data_rfm['MonetaryValue'], 4, ['4', '3', '2', '1'])"
   ]
  },
  {
   "cell_type": "markdown",
   "id": "af60f99b",
   "metadata": {},
   "source": [
    "Une fois la discrétisation des variables R, F et M réalisée, on crée un score qui correspond à la concaténation de ces trois indices."
   ]
  },
  {
   "cell_type": "code",
   "execution_count": 29,
   "id": "876fa037",
   "metadata": {},
   "outputs": [
    {
     "data": {
      "text/html": [
       "<div>\n",
       "<style scoped>\n",
       "    .dataframe tbody tr th:only-of-type {\n",
       "        vertical-align: middle;\n",
       "    }\n",
       "\n",
       "    .dataframe tbody tr th {\n",
       "        vertical-align: top;\n",
       "    }\n",
       "\n",
       "    .dataframe thead th {\n",
       "        text-align: right;\n",
       "    }\n",
       "</style>\n",
       "<table border=\"1\" class=\"dataframe\">\n",
       "  <thead>\n",
       "    <tr style=\"text-align: right;\">\n",
       "      <th></th>\n",
       "      <th>customer_unique_id</th>\n",
       "      <th>Recency</th>\n",
       "      <th>Frequency</th>\n",
       "      <th>MonetaryValue</th>\n",
       "      <th>r_quartile</th>\n",
       "      <th>f_bins</th>\n",
       "      <th>m_quartile</th>\n",
       "      <th>RFM_Score</th>\n",
       "    </tr>\n",
       "  </thead>\n",
       "  <tbody>\n",
       "    <tr>\n",
       "      <th>28262</th>\n",
       "      <td>4d99682572b7b5932340a0bce676c18c</td>\n",
       "      <td>87</td>\n",
       "      <td>4872</td>\n",
       "      <td>244.020000</td>\n",
       "      <td>1</td>\n",
       "      <td>1</td>\n",
       "      <td>1</td>\n",
       "      <td>111</td>\n",
       "    </tr>\n",
       "    <tr>\n",
       "      <th>54864</th>\n",
       "      <td>96e91c0dba30f7ff60c9acd47677c248</td>\n",
       "      <td>47</td>\n",
       "      <td>4992</td>\n",
       "      <td>1351.440000</td>\n",
       "      <td>1</td>\n",
       "      <td>1</td>\n",
       "      <td>1</td>\n",
       "      <td>111</td>\n",
       "    </tr>\n",
       "    <tr>\n",
       "      <th>20955</th>\n",
       "      <td>397b44d5bb99eabf54ea9c2b41ebb905</td>\n",
       "      <td>78</td>\n",
       "      <td>6783</td>\n",
       "      <td>490.867143</td>\n",
       "      <td>1</td>\n",
       "      <td>1</td>\n",
       "      <td>1</td>\n",
       "      <td>111</td>\n",
       "    </tr>\n",
       "    <tr>\n",
       "      <th>49011</th>\n",
       "      <td>86bfc49565a9ca52fcbf861fcc1e67a4</td>\n",
       "      <td>83</td>\n",
       "      <td>6979</td>\n",
       "      <td>152.492857</td>\n",
       "      <td>1</td>\n",
       "      <td>1</td>\n",
       "      <td>2</td>\n",
       "      <td>112</td>\n",
       "    </tr>\n",
       "    <tr>\n",
       "      <th>30641</th>\n",
       "      <td>5419a7c9b86a43d8140e2939cd2c2f7e</td>\n",
       "      <td>114</td>\n",
       "      <td>6072</td>\n",
       "      <td>55.575000</td>\n",
       "      <td>1</td>\n",
       "      <td>1</td>\n",
       "      <td>4</td>\n",
       "      <td>114</td>\n",
       "    </tr>\n",
       "    <tr>\n",
       "      <th>...</th>\n",
       "      <td>...</td>\n",
       "      <td>...</td>\n",
       "      <td>...</td>\n",
       "      <td>...</td>\n",
       "      <td>...</td>\n",
       "      <td>...</td>\n",
       "      <td>...</td>\n",
       "      <td>...</td>\n",
       "    </tr>\n",
       "    <tr>\n",
       "      <th>49250</th>\n",
       "      <td>876a8881e182fb3a64af97b737cfe889</td>\n",
       "      <td>502</td>\n",
       "      <td>227</td>\n",
       "      <td>39.420000</td>\n",
       "      <td>4</td>\n",
       "      <td>2</td>\n",
       "      <td>4</td>\n",
       "      <td>424</td>\n",
       "    </tr>\n",
       "    <tr>\n",
       "      <th>49237</th>\n",
       "      <td>876531f7c6bb88815b1ae79c3ad4719a</td>\n",
       "      <td>427</td>\n",
       "      <td>102</td>\n",
       "      <td>33.770000</td>\n",
       "      <td>4</td>\n",
       "      <td>2</td>\n",
       "      <td>4</td>\n",
       "      <td>424</td>\n",
       "    </tr>\n",
       "    <tr>\n",
       "      <th>49232</th>\n",
       "      <td>875e9bc9dba22c41f1931a2d55201ec1</td>\n",
       "      <td>519</td>\n",
       "      <td>55</td>\n",
       "      <td>57.720000</td>\n",
       "      <td>4</td>\n",
       "      <td>2</td>\n",
       "      <td>4</td>\n",
       "      <td>424</td>\n",
       "    </tr>\n",
       "    <tr>\n",
       "      <th>85270</th>\n",
       "      <td>ea715f021baf4f64753e33d7b288b72b</td>\n",
       "      <td>467</td>\n",
       "      <td>80</td>\n",
       "      <td>55.000000</td>\n",
       "      <td>4</td>\n",
       "      <td>2</td>\n",
       "      <td>4</td>\n",
       "      <td>424</td>\n",
       "    </tr>\n",
       "    <tr>\n",
       "      <th>17320</th>\n",
       "      <td>2f6bfa6509c44c47a19d724930a66a29</td>\n",
       "      <td>421</td>\n",
       "      <td>73</td>\n",
       "      <td>47.680000</td>\n",
       "      <td>4</td>\n",
       "      <td>2</td>\n",
       "      <td>4</td>\n",
       "      <td>424</td>\n",
       "    </tr>\n",
       "  </tbody>\n",
       "</table>\n",
       "<p>92988 rows × 8 columns</p>\n",
       "</div>"
      ],
      "text/plain": [
       "                     customer_unique_id  Recency  Frequency  MonetaryValue  \\\n",
       "28262  4d99682572b7b5932340a0bce676c18c       87       4872     244.020000   \n",
       "54864  96e91c0dba30f7ff60c9acd47677c248       47       4992    1351.440000   \n",
       "20955  397b44d5bb99eabf54ea9c2b41ebb905       78       6783     490.867143   \n",
       "49011  86bfc49565a9ca52fcbf861fcc1e67a4       83       6979     152.492857   \n",
       "30641  5419a7c9b86a43d8140e2939cd2c2f7e      114       6072      55.575000   \n",
       "...                                 ...      ...        ...            ...   \n",
       "49250  876a8881e182fb3a64af97b737cfe889      502        227      39.420000   \n",
       "49237  876531f7c6bb88815b1ae79c3ad4719a      427        102      33.770000   \n",
       "49232  875e9bc9dba22c41f1931a2d55201ec1      519         55      57.720000   \n",
       "85270  ea715f021baf4f64753e33d7b288b72b      467         80      55.000000   \n",
       "17320  2f6bfa6509c44c47a19d724930a66a29      421         73      47.680000   \n",
       "\n",
       "      r_quartile f_bins m_quartile RFM_Score  \n",
       "28262          1      1          1       111  \n",
       "54864          1      1          1       111  \n",
       "20955          1      1          1       111  \n",
       "49011          1      1          2       112  \n",
       "30641          1      1          4       114  \n",
       "...          ...    ...        ...       ...  \n",
       "49250          4      2          4       424  \n",
       "49237          4      2          4       424  \n",
       "49232          4      2          4       424  \n",
       "85270          4      2          4       424  \n",
       "17320          4      2          4       424  \n",
       "\n",
       "[92988 rows x 8 columns]"
      ]
     },
     "execution_count": 29,
     "metadata": {},
     "output_type": "execute_result"
    }
   ],
   "source": [
    "# Creation of RFM Score with the concatenation of R, F & M quartile/bins\n",
    "data_rfm['RFM_Score'] = data_rfm[\"r_quartile\"].astype(str) \\\n",
    "                    + data_rfm[\"f_bins\"].astype(str) \\\n",
    "                    + data_rfm[\"m_quartile\"].astype(str)\n",
    "data_rfm.sort_values(\"RFM_Score\", ascending=True)"
   ]
  },
  {
   "cell_type": "markdown",
   "id": "4343ebe3",
   "metadata": {},
   "source": [
    "### 3.3 Analyse de la segmentation RFM"
   ]
  },
  {
   "cell_type": "code",
   "execution_count": 42,
   "id": "5b6374dd",
   "metadata": {},
   "outputs": [
    {
     "data": {
      "image/png": "[encoded data removed]",
      "text/plain": [
       "<Figure size 576x396 with 1 Axes>"
      ]
     },
     "metadata": {},
     "output_type": "display_data"
    }
   ],
   "source": [
    "sns.countplot(y=\"f_bins\", data=data_rfm)\n",
    "plt.ylim(23)\n",
    "plt.title(\"Répartition de la fréquence d'achat\")\n",
    "plt.show()"
   ]
  },
  {
   "cell_type": "code",
   "execution_count": 43,
   "id": "775a22cc",
   "metadata": {},
   "outputs": [
    {
     "data": {
      "image/png": "[encoded data removed]",
      "text/plain": [
       "<Figure size 1080x360 with 2 Axes>"
      ]
     },
     "metadata": {},
     "output_type": "display_data"
    }
   ],
   "source": [
    "fig, axes = plt.subplots(1, 2, figsize=(15, 5), sharex=True)\n",
    "fig.suptitle('Description de Récence et des montants dépensés par les clients')\n",
    "\n",
    "sns.boxplot(ax=axes[0], x=\"Recency\", data=data_rfm)\n",
    "axes[0].set_title(\"Boxplot des jours passés depuis la dernière commande\")\n",
    "\n",
    "sns.boxplot(ax=axes[1], x=\"MonetaryValue\", data=data_rfm)\n",
    "axes[1].set_title(\"Boxplot des montants dépensés\")\n",
    "\n",
    "plt.show()"
   ]
  },
  {
   "cell_type": "markdown",
   "id": "f3aa6304",
   "metadata": {},
   "source": [
    "1: la plupart des clients réalise un seul achat.\n",
    "2: Les sommes dépensées atteignent un maximum de 14.000 Réaux.\n",
    "3: Il est difficile de savoir s'ils reviennent régulièrement acheter donc la récence est très variable. On voit que la fréquence est inutile, il faut donc réfléchir à l'ajout de 2 nouvelles variables.\n"
   ]
  },
  {
   "cell_type": "markdown",
   "id": "3ec98c02",
   "metadata": {},
   "source": [
    "### 3.4. Nommer les segments et attribuer les individus"
   ]
  },
  {
   "cell_type": "markdown",
   "id": "750eca8b",
   "metadata": {},
   "source": [
    "Les scores RFM nous donnent 533 = 125 segments. Ce qui n'est pas facile à travailler.\n",
    "Je vais travailler avec 11 segments basés sur les scores R et F. Voici la description des segments :\n"
   ]
  },
  {
   "cell_type": "markdown",
   "id": "d3ba30b5",
   "metadata": {},
   "source": [
    "|  Segment |  Description | \n",
    "|---   |---   |\n",
    "|Champions |Acheté récemment, achetez souvent et dépensez le plus  |\n",
    "|  Loyal Customers |Achetez régulièrement. Réactif aux promotions |\n",
    "| Potential Loyalist  |  Clients récents avec fréquence moyenne |\n",
    "|  Recent Customers |  Acheté le plus récemment, mais pas souvent |\n",
    "|  Promising |  Acheteurs récents, mais qui n'ont pas dépensé beaucoup |\n",
    "|  Customers Needing Attention |  Récence, fréquence et valeurs monétaires supérieures à la moyenne. Peut-être pas acheté très récemment cependant |\n",
    "|  About To Sleep |  Récence et fréquence inférieures à la moyenne. Les perdront s'ils ne sont pas réactivés |\n",
    "| At Risk  | acheté souvent mais il y a longtemps. Faut les ramener !  |\n",
    "| Can’t Lose Them  | Utilisé pour acheter fréquemment mais n'est pas revenu depuis longtemps  |\n",
    "| Hibernating  |  Le dernier achat remonte à longtemps et le nombre de commandes était faible. Peut être perdu |\n"
   ]
  },
  {
   "cell_type": "code",
   "execution_count": 35,
   "id": "f1cc1c74",
   "metadata": {},
   "outputs": [
    {
     "data": {
      "text/html": [
       "<div>\n",
       "<style scoped>\n",
       "    .dataframe tbody tr th:only-of-type {\n",
       "        vertical-align: middle;\n",
       "    }\n",
       "\n",
       "    .dataframe tbody tr th {\n",
       "        vertical-align: top;\n",
       "    }\n",
       "\n",
       "    .dataframe thead th {\n",
       "        text-align: right;\n",
       "    }\n",
       "</style>\n",
       "<table border=\"1\" class=\"dataframe\">\n",
       "  <thead>\n",
       "    <tr style=\"text-align: right;\">\n",
       "      <th></th>\n",
       "      <th>customer_unique_id</th>\n",
       "      <th>Recency</th>\n",
       "      <th>Frequency</th>\n",
       "      <th>MonetaryValue</th>\n",
       "      <th>r_quartile</th>\n",
       "      <th>f_bins</th>\n",
       "      <th>m_quartile</th>\n",
       "      <th>RFM_Score</th>\n",
       "      <th>label</th>\n",
       "      <th>rfm_segment_name</th>\n",
       "    </tr>\n",
       "  </thead>\n",
       "  <tbody>\n",
       "    <tr>\n",
       "      <th>0</th>\n",
       "      <td>0000366f3b9a7992bf8c76cfdf3221e2</td>\n",
       "      <td>116</td>\n",
       "      <td>65</td>\n",
       "      <td>141.90</td>\n",
       "      <td>1</td>\n",
       "      <td>2</td>\n",
       "      <td>2</td>\n",
       "      <td>122</td>\n",
       "      <td>Low_value_customers</td>\n",
       "      <td>hibernating</td>\n",
       "    </tr>\n",
       "    <tr>\n",
       "      <th>1</th>\n",
       "      <td>0000b849f77a49e4a4ce2b2a4ca5be3f</td>\n",
       "      <td>119</td>\n",
       "      <td>144</td>\n",
       "      <td>27.19</td>\n",
       "      <td>1</td>\n",
       "      <td>2</td>\n",
       "      <td>4</td>\n",
       "      <td>124</td>\n",
       "      <td>Low_value_customers</td>\n",
       "      <td>hibernating</td>\n",
       "    </tr>\n",
       "    <tr>\n",
       "      <th>2</th>\n",
       "      <td>0000f46a3911fa3c0805444483337064</td>\n",
       "      <td>542</td>\n",
       "      <td>93</td>\n",
       "      <td>86.22</td>\n",
       "      <td>4</td>\n",
       "      <td>2</td>\n",
       "      <td>3</td>\n",
       "      <td>423</td>\n",
       "      <td>Low_value_customers</td>\n",
       "      <td>potential loyalists</td>\n",
       "    </tr>\n",
       "    <tr>\n",
       "      <th>3</th>\n",
       "      <td>0000f6ccb0745a6a4b88665a16c9f078</td>\n",
       "      <td>326</td>\n",
       "      <td>27</td>\n",
       "      <td>43.62</td>\n",
       "      <td>3</td>\n",
       "      <td>2</td>\n",
       "      <td>4</td>\n",
       "      <td>324</td>\n",
       "      <td>Low_value_customers</td>\n",
       "      <td>about to sleep</td>\n",
       "    </tr>\n",
       "    <tr>\n",
       "      <th>4</th>\n",
       "      <td>0004aac84e0df4da2b147fca70cf8255</td>\n",
       "      <td>293</td>\n",
       "      <td>133</td>\n",
       "      <td>196.89</td>\n",
       "      <td>3</td>\n",
       "      <td>2</td>\n",
       "      <td>1</td>\n",
       "      <td>321</td>\n",
       "      <td>Low_value_customers</td>\n",
       "      <td>about to sleep</td>\n",
       "    </tr>\n",
       "  </tbody>\n",
       "</table>\n",
       "</div>"
      ],
      "text/plain": [
       "                 customer_unique_id  Recency  Frequency  MonetaryValue  \\\n",
       "0  0000366f3b9a7992bf8c76cfdf3221e2      116         65         141.90   \n",
       "1  0000b849f77a49e4a4ce2b2a4ca5be3f      119        144          27.19   \n",
       "2  0000f46a3911fa3c0805444483337064      542         93          86.22   \n",
       "3  0000f6ccb0745a6a4b88665a16c9f078      326         27          43.62   \n",
       "4  0004aac84e0df4da2b147fca70cf8255      293        133         196.89   \n",
       "\n",
       "  r_quartile f_bins m_quartile RFM_Score                label  \\\n",
       "0          1      2          2       122  Low_value_customers   \n",
       "1          1      2          4       124  Low_value_customers   \n",
       "2          4      2          3       423  Low_value_customers   \n",
       "3          3      2          4       324  Low_value_customers   \n",
       "4          3      2          1       321  Low_value_customers   \n",
       "\n",
       "      rfm_segment_name  \n",
       "0          hibernating  \n",
       "1          hibernating  \n",
       "2  potential loyalists  \n",
       "3       about to sleep  \n",
       "4       about to sleep  "
      ]
     },
     "execution_count": 35,
     "metadata": {},
     "output_type": "execute_result"
    }
   ],
   "source": [
    "segt_map = {\n",
    "    r'[1-2][1-2]': 'hibernating',\n",
    "    r'[1-2][3-4]': 'at risk',\n",
    "    r'[1-2]5': 'can\\'t loose',\n",
    "    r'3[1-2]': 'about to sleep',\n",
    "    r'33': 'need attention',\n",
    "    r'[3-4][4-5]': 'loyal customers',\n",
    "    r'41': 'promising',\n",
    "    r'51': 'new customers',\n",
    "    r'[4-5][2-3]': 'potential loyalists',\n",
    "    r'5[4-5]': 'champions'\n",
    "}\n",
    "\n",
    "data_rfm['rfm_segment_name'] = data_rfm['r_quartile'].astype(str) + data_rfm['f_bins'].astype(str)\n",
    "data_rfm['rfm_segment_name'] = data_rfm['rfm_segment_name'].replace(segt_map, regex=True)\n",
    "data_rfm.head()"
   ]
  },
  {
   "cell_type": "markdown",
   "id": "f1f5ed2f",
   "metadata": {},
   "source": [
    "### 3.5. Visualiser les segments de clientèle"
   ]
  },
  {
   "cell_type": "markdown",
   "id": "0132405d",
   "metadata": {},
   "source": [
    "#### 3.5.1. Méthode 1: "
   ]
  },
  {
   "cell_type": "code",
   "execution_count": 36,
   "id": "4ede5061",
   "metadata": {},
   "outputs": [
    {
     "data": {
      "text/html": [
       "<div>\n",
       "<style scoped>\n",
       "    .dataframe tbody tr th:only-of-type {\n",
       "        vertical-align: middle;\n",
       "    }\n",
       "\n",
       "    .dataframe tbody tr th {\n",
       "        vertical-align: top;\n",
       "    }\n",
       "\n",
       "    .dataframe thead th {\n",
       "        text-align: right;\n",
       "    }\n",
       "</style>\n",
       "<table border=\"1\" class=\"dataframe\">\n",
       "  <thead>\n",
       "    <tr style=\"text-align: right;\">\n",
       "      <th></th>\n",
       "      <th>rfm_segment_name</th>\n",
       "      <th>customers</th>\n",
       "    </tr>\n",
       "  </thead>\n",
       "  <tbody>\n",
       "    <tr>\n",
       "      <th>0</th>\n",
       "      <td>about to sleep</td>\n",
       "      <td>23207</td>\n",
       "    </tr>\n",
       "    <tr>\n",
       "      <th>1</th>\n",
       "      <td>hibernating</td>\n",
       "      <td>46553</td>\n",
       "    </tr>\n",
       "    <tr>\n",
       "      <th>2</th>\n",
       "      <td>potential loyalists</td>\n",
       "      <td>23225</td>\n",
       "    </tr>\n",
       "    <tr>\n",
       "      <th>3</th>\n",
       "      <td>promising</td>\n",
       "      <td>3</td>\n",
       "    </tr>\n",
       "  </tbody>\n",
       "</table>\n",
       "</div>"
      ],
      "text/plain": [
       "      rfm_segment_name  customers\n",
       "0       about to sleep      23207\n",
       "1          hibernating      46553\n",
       "2  potential loyalists      23225\n",
       "3            promising          3"
      ]
     },
     "execution_count": 36,
     "metadata": {},
     "output_type": "execute_result"
    }
   ],
   "source": [
    "rfm_treemap = data_rfm.groupby('rfm_segment_name').agg(customers=('customer_unique_id', 'count')).reset_index()\n",
    "rfm_treemap.head()\n"
   ]
  },
  {
   "cell_type": "code",
   "execution_count": 37,
   "id": "7d960815",
   "metadata": {},
   "outputs": [
    {
     "data": {
      "image/png": "[encoded data removed]",
      "text/plain": [
       "<Figure size 720x720 with 1 Axes>"
      ]
     },
     "metadata": {},
     "output_type": "display_data"
    }
   ],
   "source": [
    "fig, ax = plt.subplots(1, figsize = (10,10))\n",
    "squarify.plot(sizes=rfm_treemap['customers'], \n",
    "              label=rfm_treemap['rfm_segment_name'], \n",
    "              alpha=1,\n",
    "              color=['tab:blue', 'tab:red', 'tab:green', 'tab:purple']\n",
    "             )\n",
    "plt.axis('off')\n",
    "plt.show()"
   ]
  },
  {
   "cell_type": "markdown",
   "id": "ef5830bd",
   "metadata": {},
   "source": [
    "#### 3.5.2. Méthode 2: "
   ]
  },
  {
   "cell_type": "code",
   "execution_count": 38,
   "id": "a4baec1a",
   "metadata": {},
   "outputs": [],
   "source": [
    "# Normal distribution for 'payment_value'\n",
    "data_rfm['payment_value_log'] = np.log(\n",
    "    data_rfm['MonetaryValue'] + 1\n",
    "    )"
   ]
  },
  {
   "cell_type": "code",
   "execution_count": 39,
   "id": "df7d7540",
   "metadata": {},
   "outputs": [],
   "source": [
    "# The scores will be 1, 2 or 3 for each feature of each row.1 will be a bad score. 3 will be the best possible score.\n",
    "\n",
    "# Because of the normal distribution, we can split the distribution in 3 scores\n",
    "data_rfm['payment_value_score_bis'] = pd.cut(\n",
    "    data_rfm['payment_value_log'],\n",
    "    bins=3,\n",
    "    labels=range(1, 4)\n",
    "    ).astype(int)\n",
    "\n",
    "# Because of the special distribution, the split is arbitrary . Frequency = 1 => bad score (1) . Frequency > 2 => best score (3)\n",
    "bins = [0, 1, 2, np.inf]\n",
    "labels = [1, 2, 3]\n",
    "data_rfm['frequency_score_bis'] = pd.cut(\n",
    "    data_rfm['Frequency'],\n",
    "    bins,\n",
    "    labels=labels\n",
    "    ).astype(int)\n",
    "\n",
    "# Because of the normal distribution, we can split the distribution in 3 scores\n",
    "data_rfm['recency_score_bis'] = 4 - pd.cut(\n",
    "    data_rfm['Recency'],\n",
    "    bins=3,\n",
    "    labels=range(1, 4)\n",
    "    ).astype(int)\n",
    "\n",
    "# All 3 scores in one column\n",
    "data_rfm['RFM_Score2'] = data_rfm['recency_score_bis'] * 100 \\\n",
    "                       + data_rfm['frequency_score_bis'] * 10 \\\n",
    "                       + data_rfm['payment_value_score_bis']\n"
   ]
  },
  {
   "cell_type": "code",
   "execution_count": 40,
   "id": "67d715a7",
   "metadata": {},
   "outputs": [
    {
     "data": {
      "text/html": [
       "<div>\n",
       "<style scoped>\n",
       "    .dataframe tbody tr th:only-of-type {\n",
       "        vertical-align: middle;\n",
       "    }\n",
       "\n",
       "    .dataframe tbody tr th {\n",
       "        vertical-align: top;\n",
       "    }\n",
       "\n",
       "    .dataframe thead th {\n",
       "        text-align: right;\n",
       "    }\n",
       "</style>\n",
       "<table border=\"1\" class=\"dataframe\">\n",
       "  <thead>\n",
       "    <tr style=\"text-align: right;\">\n",
       "      <th></th>\n",
       "      <th>R</th>\n",
       "      <th>F</th>\n",
       "      <th>M</th>\n",
       "      <th>Segment</th>\n",
       "    </tr>\n",
       "  </thead>\n",
       "  <tbody>\n",
       "    <tr>\n",
       "      <th>0</th>\n",
       "      <td>116</td>\n",
       "      <td>65</td>\n",
       "      <td>141.90</td>\n",
       "      <td>Best_customers</td>\n",
       "    </tr>\n",
       "    <tr>\n",
       "      <th>1</th>\n",
       "      <td>119</td>\n",
       "      <td>144</td>\n",
       "      <td>27.19</td>\n",
       "      <td>Customers_to_retain</td>\n",
       "    </tr>\n",
       "    <tr>\n",
       "      <th>2</th>\n",
       "      <td>542</td>\n",
       "      <td>93</td>\n",
       "      <td>86.22</td>\n",
       "      <td>Lost_customers</td>\n",
       "    </tr>\n",
       "    <tr>\n",
       "      <th>3</th>\n",
       "      <td>326</td>\n",
       "      <td>27</td>\n",
       "      <td>43.62</td>\n",
       "      <td>Almost_lost</td>\n",
       "    </tr>\n",
       "    <tr>\n",
       "      <th>4</th>\n",
       "      <td>293</td>\n",
       "      <td>133</td>\n",
       "      <td>196.89</td>\n",
       "      <td>Try_to_come_back</td>\n",
       "    </tr>\n",
       "    <tr>\n",
       "      <th>...</th>\n",
       "      <td>...</td>\n",
       "      <td>...</td>\n",
       "      <td>...</td>\n",
       "      <td>...</td>\n",
       "    </tr>\n",
       "    <tr>\n",
       "      <th>92983</th>\n",
       "      <td>452</td>\n",
       "      <td>24</td>\n",
       "      <td>2067.42</td>\n",
       "      <td>Try_to_come_back</td>\n",
       "    </tr>\n",
       "    <tr>\n",
       "      <th>92984</th>\n",
       "      <td>267</td>\n",
       "      <td>72</td>\n",
       "      <td>84.58</td>\n",
       "      <td>Try_to_come_back</td>\n",
       "    </tr>\n",
       "    <tr>\n",
       "      <th>92985</th>\n",
       "      <td>573</td>\n",
       "      <td>55</td>\n",
       "      <td>112.46</td>\n",
       "      <td>Lost_customers</td>\n",
       "    </tr>\n",
       "    <tr>\n",
       "      <th>92986</th>\n",
       "      <td>124</td>\n",
       "      <td>40</td>\n",
       "      <td>133.69</td>\n",
       "      <td>Best_customers</td>\n",
       "    </tr>\n",
       "    <tr>\n",
       "      <th>92987</th>\n",
       "      <td>489</td>\n",
       "      <td>12</td>\n",
       "      <td>71.56</td>\n",
       "      <td>Lost_customers</td>\n",
       "    </tr>\n",
       "  </tbody>\n",
       "</table>\n",
       "<p>92988 rows × 4 columns</p>\n",
       "</div>"
      ],
      "text/plain": [
       "         R    F        M              Segment\n",
       "0      116   65   141.90       Best_customers\n",
       "1      119  144    27.19  Customers_to_retain\n",
       "2      542   93    86.22       Lost_customers\n",
       "3      326   27    43.62          Almost_lost\n",
       "4      293  133   196.89     Try_to_come_back\n",
       "...    ...  ...      ...                  ...\n",
       "92983  452   24  2067.42     Try_to_come_back\n",
       "92984  267   72    84.58     Try_to_come_back\n",
       "92985  573   55   112.46       Lost_customers\n",
       "92986  124   40   133.69       Best_customers\n",
       "92987  489   12    71.56       Lost_customers\n",
       "\n",
       "[92988 rows x 4 columns]"
      ]
     },
     "execution_count": 40,
     "metadata": {},
     "output_type": "execute_result"
    }
   ],
   "source": [
    "data_rfm['label'] = 'Low_value_customers'\n",
    "\n",
    "data_rfm.loc[\n",
    "    (data_rfm['RFM_Score2'] == 312)\n",
    "    | (data_rfm['RFM_Score2'] == 313)\n",
    "    | (data_rfm['RFM_Score2'] == 331),\n",
    "    'label'] = 'Customers_to_retain'\n",
    "\n",
    "data_rfm.loc[\n",
    "    (data_rfm['RFM_Score2'] == 133)\n",
    "    | (data_rfm['RFM_Score2'] == 123)\n",
    "    | (data_rfm['RFM_Score2'] == 132)\n",
    "    | (data_rfm['RFM_Score2'] == 122)\n",
    "    | (data_rfm['RFM_Score2'] == 113),\n",
    "    'label'] = 'Lost_customers'\n",
    "\n",
    "data_rfm.loc[\n",
    "    (data_rfm['RFM_Score2'] == 212)\n",
    "    | (data_rfm['RFM_Score2'] == 213)\n",
    "    | (data_rfm['RFM_Score2'] == 221)\n",
    "    | (data_rfm['RFM_Score2'] == 231),\n",
    "    'label'] = 'Almost_lost'\n",
    "\n",
    "data_rfm.loc[\n",
    "    (data_rfm['RFM_Score2'] == 233)\n",
    "    | (data_rfm['RFM_Score2'] == 223)\n",
    "    | (data_rfm['RFM_Score2'] == 232)\n",
    "    | (data_rfm['RFM_Score2'] == 222),\n",
    "    'label'] = 'Try_to_come_back'\n",
    "\n",
    "data_rfm.loc[\n",
    "    (data_rfm['RFM_Score2'] == 333)\n",
    "    | (data_rfm['RFM_Score2'] == 323)\n",
    "    | (data_rfm['RFM_Score2'] == 322)\n",
    "    | (data_rfm['RFM_Score2'] == 332),\n",
    "    'label'] = 'Best_customers'\n",
    "\n",
    "result_df = pd.DataFrame({\n",
    "    'R': data_rfm['Recency'],\n",
    "    'F': data_rfm['Frequency'],\n",
    "    'M': data_rfm['MonetaryValue'],\n",
    "    'Segment': data_rfm['label']\n",
    "})\n",
    "\n",
    "result_df"
   ]
  },
  {
   "cell_type": "code",
   "execution_count": 41,
   "id": "9bb48d39",
   "metadata": {},
   "outputs": [
    {
     "data": {
      "text/plain": [
       "<AxesSubplot:>"
      ]
     },
     "execution_count": 41,
     "metadata": {},
     "output_type": "execute_result"
    },
    {
     "data": {
      "image/png": "[encoded data removed]",
      "text/plain": [
       "<Figure size 576x396 with 1 Axes>"
      ]
     },
     "metadata": {},
     "output_type": "display_data"
    }
   ],
   "source": [
    "result_df['Segment'].value_counts().plot.bar()"
   ]
  },
  {
   "cell_type": "code",
   "execution_count": 42,
   "id": "3828b60e",
   "metadata": {},
   "outputs": [
    {
     "data": {
      "image/png": "[encoded data removed]",
      "text/plain": [
       "<Figure size 1008x720 with 1 Axes>"
      ]
     },
     "metadata": {},
     "output_type": "display_data"
    }
   ],
   "source": [
    "\n",
    "sizes_ = result_df['Segment'].value_counts()\n",
    "label_ = sizes_.index\n",
    "\n",
    "cmap = mpl.cm.coolwarm\n",
    "mini = min(sizes_)\n",
    "maxi = max(sizes_)\n",
    "norm = mpl.colors.Normalize(vmin=mini, vmax=maxi)\n",
    "colors = [cmap(norm(value)) for value in sizes_]\n",
    "\n",
    "fig = plt.gcf()\n",
    "ax = fig.add_subplot()\n",
    "\n",
    "fig.set_size_inches(14, 10)\n",
    "\n",
    "squarify.plot(\n",
    "    sizes=sizes_,\n",
    "    label=label_,\n",
    "    alpha=0.6,\n",
    "    color=[\n",
    "        'blue', 'orange', 'green', 'red', 'purple', 'cyan'\n",
    "        ]\n",
    "    )\n",
    "\n",
    "plt.title('RFM Segments', fontsize=18, fontweight='bold')\n",
    "plt.axis('off')\n",
    "\n",
    "plt.show()"
   ]
  },
  {
   "cell_type": "markdown",
   "id": "041fee7c",
   "metadata": {},
   "source": [
    "### 3.6. Ajouter les nouveaux indicateurs\n",
    "On va créer de nouvelles variables que l'on va ajouter pour pouvoir obtenir une segmentation plus fine.\n",
    "1. on va ajouter le nombre de jours entre la commande (order_approved_at) et la réception de cette dernière\n",
    "2. le nombre de jours entre la date de commande livré et la date d'estimation\n",
    "\n"
   ]
  },
  {
   "cell_type": "code",
   "execution_count": 43,
   "id": "74772892",
   "metadata": {},
   "outputs": [
    {
     "data": {
      "text/plain": [
       "Index(['customer_id', 'customer_unique_id', 'customer_zip_code_prefix',\n",
       "       'customer_city', 'customer_state', 'geolocation_lat', 'geolocation_lng',\n",
       "       'order_id', 'order_status', 'order_purchase_timestamp',\n",
       "       'order_approved_at', 'order_delivered_carrier_date',\n",
       "       'order_delivered_customer_date', 'order_estimated_delivery_date',\n",
       "       'review_id', 'review_score', 'review_creation_date',\n",
       "       'review_answer_timestamp', 'payment_sequential', 'payment_type',\n",
       "       'payment_installments', 'payment_value', 'order_item_id', 'product_id',\n",
       "       'seller_id', 'shipping_limit_date', 'price', 'freight_value',\n",
       "       'product_category_name_english', 'product_name_lenght',\n",
       "       'product_description_lenght', 'product_photos_qty', 'product_weight_g',\n",
       "       'product_length_cm', 'product_height_cm', 'product_width_cm'],\n",
       "      dtype='object')"
      ]
     },
     "execution_count": 43,
     "metadata": {},
     "output_type": "execute_result"
    }
   ],
   "source": [
    "df.columns"
   ]
  },
  {
   "cell_type": "markdown",
   "id": "1a4633ce",
   "metadata": {},
   "source": [
    "on va calculer le nombre de jours entre la commande et la réception réel et estimé"
   ]
  },
  {
   "cell_type": "code",
   "execution_count": 30,
   "id": "dbc8d571",
   "metadata": {},
   "outputs": [],
   "source": [
    "df[\"days_before_delivered\"] = df[\"order_delivered_customer_date\"] - df[\"order_approved_at\"]\n",
    "\n",
    "df[\"days_before_delivered_estimation\"] = df[\"order_estimated_delivery_date\"] - df[\"order_approved_at\"]\n",
    "\n",
    "cols_var = [\"days_before_delivered\", \"days_before_delivered_estimation\"]\n",
    "\n",
    "for cols in cols_var:\n",
    "    df[cols] = df[cols].dt.days\n"
   ]
  },
  {
   "cell_type": "code",
   "execution_count": 45,
   "id": "4ef6f7ac",
   "metadata": {},
   "outputs": [
    {
     "data": {
      "text/plain": [
       "customer_id                              0\n",
       "customer_unique_id                       0\n",
       "customer_zip_code_prefix                 0\n",
       "customer_city                            0\n",
       "customer_state                           0\n",
       "geolocation_lat                        353\n",
       "geolocation_lng                        353\n",
       "order_id                                 0\n",
       "order_status                             0\n",
       "order_purchase_timestamp                 0\n",
       "order_approved_at                     2721\n",
       "order_delivered_carrier_date        109813\n",
       "order_delivered_customer_date       252818\n",
       "order_estimated_delivery_date            0\n",
       "review_id                                0\n",
       "review_score                             0\n",
       "review_creation_date                     0\n",
       "review_answer_timestamp                  0\n",
       "payment_sequential                       0\n",
       "payment_type                             0\n",
       "payment_installments                     0\n",
       "payment_value                            0\n",
       "order_item_id                            0\n",
       "product_id                               0\n",
       "seller_id                                0\n",
       "shipping_limit_date                      0\n",
       "price                                    0\n",
       "freight_value                            0\n",
       "product_category_name_english            0\n",
       "product_name_lenght                      0\n",
       "product_description_lenght               0\n",
       "product_photos_qty                       0\n",
       "product_weight_g                       108\n",
       "product_length_cm                      108\n",
       "product_height_cm                      108\n",
       "product_width_cm                       108\n",
       "days_before_delivered               255539\n",
       "days_before_delivered_estimation      2721\n",
       "dtype: int64"
      ]
     },
     "execution_count": 45,
     "metadata": {},
     "output_type": "execute_result"
    }
   ],
   "source": [
    "percent_missing = df.isnull().sum()\n",
    "percent_missing"
   ]
  },
  {
   "cell_type": "code",
   "execution_count": null,
   "id": "b0dafe99",
   "metadata": {},
   "outputs": [],
   "source": [
    "# Supprimer les lignes sans days_before_delivered et days_before_delivered_estimation\n",
    "df.dropna(subset=['days_before_delivered'], inplace=True) "
   ]
  },
  {
   "cell_type": "code",
   "execution_count": null,
   "id": "615eab02",
   "metadata": {},
   "outputs": [],
   "source": [
    "# Supprimer les lignes sans days_before_delivered_estimation\n",
    "df.dropna(subset=['days_before_delivered_estimation'], inplace=True) "
   ]
  },
  {
   "cell_type": "code",
   "execution_count": 52,
   "id": "b4307b2c",
   "metadata": {},
   "outputs": [
    {
     "data": {
      "image/png": "[encoded data removed]",
      "text/plain": [
       "<Figure size 1080x360 with 2 Axes>"
      ]
     },
     "metadata": {},
     "output_type": "display_data"
    }
   ],
   "source": [
    "fig, axes = plt.subplots(1, 2, figsize=(15, 5), sharex=True)\n",
    "fig.suptitle('Description du nombre de jours entre la commande et la réception (réalité et estimation)')\n",
    "\n",
    "sns.histplot(ax=axes[0], x=\"days_before_delivered\",bins=60, color = \"purple\", data=df, kde=True, alpha =1, linewidth= 1 )\n",
    "axes[0].set_title(\"Distribution du nombre de jours entre la commande et la réception (réalité)\")\n",
    "\n",
    "\n",
    "sns.histplot(ax=axes[1], x=\"days_before_delivered_estimation\", bins=60, color = \"pink\", data=df, kde=True,  alpha =1, linewidth= 1)\n",
    "axes[1].set_title(\"Distribution du nombre de jours entre la commande et la réception (estimation)\")\n",
    "\n",
    "plt.show()\n"
   ]
  },
  {
   "cell_type": "markdown",
   "id": "4e6b540d",
   "metadata": {},
   "source": [
    "## Préparation des données pour modeling"
   ]
  },
  {
   "cell_type": "code",
   "execution_count": null,
   "id": "6703c79a",
   "metadata": {},
   "outputs": [],
   "source": [
    "df_filter = df.copy()\n",
    "df_filter.drop_duplicates(subset=\"customer_unique_id\", inplace=True)\n"
   ]
  },
  {
   "cell_type": "code",
   "execution_count": null,
   "id": "a68abac7",
   "metadata": {},
   "outputs": [],
   "source": [
    "df_final = pd.merge(df_filter, data_rfm,\n",
    "              left_on=\"customer_unique_id\",\n",
    "              right_on=\"customer_unique_id\",\n",
    "              how=\"right\")\n",
    "df_final.columns"
   ]
  },
  {
   "cell_type": "code",
   "execution_count": null,
   "id": "b37bb149",
   "metadata": {},
   "outputs": [],
   "source": [
    "df_final.to_csv(\"df_clean.csv\", index=False)"
   ]
  },
  {
   "cell_type": "code",
   "execution_count": null,
   "id": "318797bb",
   "metadata": {},
   "outputs": [],
   "source": []
  }
 ],
 "metadata": {
  "kernelspec": {
   "display_name": "Python 3 (ipykernel)",
   "language": "python",
   "name": "python3"
  },
  "language_info": {
   "codemirror_mode": {
    "name": "ipython",
    "version": 3
   },
   "file_extension": ".py",
   "mimetype": "text/x-python",
   "name": "python",
   "nbconvert_exporter": "python",
   "pygments_lexer": "ipython3",
   "version": "3.9.7"
  }
 },
 "nbformat": 4,
 "nbformat_minor": 5
}
